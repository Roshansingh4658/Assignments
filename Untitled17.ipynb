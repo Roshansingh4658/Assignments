{
 "cells": [
  {
   "cell_type": "code",
   "execution_count": 1,
   "id": "6fd977c0",
   "metadata": {},
   "outputs": [
    {
     "name": "stdout",
     "output_type": "stream",
     "text": [
      "!dlroW ,olleH\n"
     ]
    }
   ],
   "source": [
    "def reverse_string(input_str):\n",
    "    return ''.join(reversed(input_str))\n",
    "\n",
    "# Example usage:\n",
    "original_string = \"Hello, World!\"\n",
    "reversed_string = reverse_string(original_string)\n",
    "print(reversed_string)"
   ]
  },
  {
   "cell_type": "code",
   "execution_count": 2,
   "id": "7b59e9c6",
   "metadata": {},
   "outputs": [
    {
     "name": "stdout",
     "output_type": "stream",
     "text": [
      "A man a plan a canal Panama is a palindrome.\n"
     ]
    }
   ],
   "source": [
    "def is_palindrome(input_str):\n",
    "    # Convert the string to lowercase and remove spaces\n",
    "    cleaned_str = ''.join(input_str.lower().split())\n",
    "\n",
    "    # Check if the cleaned string is equal to its reverse\n",
    "    return cleaned_str == cleaned_str[::-1]\n",
    "\n",
    "# Example usage:\n",
    "input_string = \"A man a plan a canal Panama\"\n",
    "if is_palindrome(input_string):\n",
    "    print(f\"{input_string} is a palindrome.\")\n",
    "else:\n",
    "    print(f\"{input_string} is not a palindrome.\")\n"
   ]
  },
  {
   "cell_type": "code",
   "execution_count": 3,
   "id": "81896223",
   "metadata": {},
   "outputs": [
    {
     "name": "stdout",
     "output_type": "stream",
     "text": [
      "HELLO, WORLD!\n"
     ]
    }
   ],
   "source": [
    "original_string = \"Hello, World!\"\n",
    "uppercase_string = original_string.upper()\n",
    "\n",
    "print(uppercase_string)"
   ]
  },
  {
   "cell_type": "code",
   "execution_count": 4,
   "id": "3676c809",
   "metadata": {},
   "outputs": [
    {
     "name": "stdout",
     "output_type": "stream",
     "text": [
      "hello, world!\n"
     ]
    }
   ],
   "source": [
    "original_string = \"Hello, World!\"\n",
    "lowercase_string = original_string.lower()\n",
    "\n",
    "print(lowercase_string)"
   ]
  },
  {
   "cell_type": "code",
   "execution_count": 5,
   "id": "0aec1b8f",
   "metadata": {},
   "outputs": [
    {
     "name": "stdout",
     "output_type": "stream",
     "text": [
      "The number of vowels in 'Hello, World!' is: 3\n"
     ]
    }
   ],
   "source": [
    "def count_vowels(input_str):\n",
    "    vowels = \"aeiouAEIOU\"\n",
    "    vowel_count = 0\n",
    "\n",
    "    for char in input_str:\n",
    "        if char in vowels:\n",
    "            vowel_count += 1\n",
    "\n",
    "    return vowel_count\n",
    "\n",
    "# Example usage:\n",
    "input_string = \"Hello, World!\"\n",
    "result = count_vowels(input_string)\n",
    "print(f\"The number of vowels in '{input_string}' is: {result}\")\n"
   ]
  },
  {
   "cell_type": "code",
   "execution_count": 6,
   "id": "e937cc69",
   "metadata": {},
   "outputs": [
    {
     "name": "stdout",
     "output_type": "stream",
     "text": [
      "The number of consonants in 'Hello, World!' is: 7\n"
     ]
    }
   ],
   "source": [
    "def count_consonants(input_str):\n",
    "    vowels = \"aeiouAEIOU\"\n",
    "    consonant_count = 0\n",
    "\n",
    "    for char in input_str:\n",
    "        if char.isalpha() and char not in vowels:\n",
    "            consonant_count += 1\n",
    "\n",
    "    return consonant_count\n",
    "\n",
    "# Example usage:\n",
    "input_string = \"Hello, World!\"\n",
    "result = count_consonants(input_string)\n",
    "print(f\"The number of consonants in '{input_string}' is: {result}\")"
   ]
  },
  {
   "cell_type": "code",
   "execution_count": 7,
   "id": "dc27bead",
   "metadata": {},
   "outputs": [
    {
     "name": "stdout",
     "output_type": "stream",
     "text": [
      "Hello,World!\n"
     ]
    }
   ],
   "source": [
    "def remove_whitespace(input_str):\n",
    "    return input_str.replace(\" \", \"\")\n",
    "\n",
    "# Example usage:\n",
    "original_string = \"Hello, World!\"\n",
    "no_whitespace_string = remove_whitespace(original_string)\n",
    "print(no_whitespace_string)\n"
   ]
  },
  {
   "cell_type": "code",
   "execution_count": 8,
   "id": "f7feb939",
   "metadata": {},
   "outputs": [
    {
     "name": "stdout",
     "output_type": "stream",
     "text": [
      "Hello,World!\n"
     ]
    }
   ],
   "source": [
    "def remove_whitespace(input_str):\n",
    "    return ''.join(input_str.split())\n",
    "\n",
    "# Example usage:\n",
    "original_string = \"Hello, World!\"\n",
    "no_whitespace_string = remove_whitespace(original_string)\n",
    "print(no_whitespace_string)\n"
   ]
  },
  {
   "cell_type": "code",
   "execution_count": 9,
   "id": "6c964dcc",
   "metadata": {},
   "outputs": [
    {
     "name": "stdout",
     "output_type": "stream",
     "text": [
      "The length of 'Hello, World!' is: 13\n"
     ]
    }
   ],
   "source": [
    "def calculate_length(input_str):\n",
    "    length = 0\n",
    "    for char in input_str:\n",
    "        length += 1\n",
    "    return length\n",
    "\n",
    "# Example usage:\n",
    "original_string = \"Hello, World!\"\n",
    "result = calculate_length(original_string)\n",
    "print(f\"The length of '{original_string}' is: {result}\")"
   ]
  },
  {
   "cell_type": "code",
   "execution_count": 10,
   "id": "bb16448c",
   "metadata": {},
   "outputs": [
    {
     "name": "stdout",
     "output_type": "stream",
     "text": [
      "The string 'Hello, World!' contains the word 'World'.\n"
     ]
    }
   ],
   "source": [
    "def contains_word(input_str, word):\n",
    "    return word in input_str\n",
    "\n",
    "# Example usage:\n",
    "main_string = \"Hello, World!\"\n",
    "specific_word = \"World\"\n",
    "\n",
    "if contains_word(main_string, specific_word):\n",
    "    print(f\"The string '{main_string}' contains the word '{specific_word}'.\")\n",
    "else:\n",
    "    print(f\"The string '{main_string}' does not contain the word '{specific_word}'.\")\n"
   ]
  },
  {
   "cell_type": "code",
   "execution_count": 11,
   "id": "e42f78dc",
   "metadata": {},
   "outputs": [
    {
     "name": "stdout",
     "output_type": "stream",
     "text": [
      "The string 'Hello, World!' contains the word 'World'.\n"
     ]
    }
   ],
   "source": [
    "def contains_word(input_str, word):\n",
    "    return input_str.find(word) != -1\n",
    "\n",
    "# Example usage:\n",
    "main_string = \"Hello, World!\"\n",
    "specific_word = \"World\"\n",
    "\n",
    "if contains_word(main_string, specific_word):\n",
    "    print(f\"The string '{main_string}' contains the word '{specific_word}'.\")\n",
    "else:\n",
    "    print(f\"The string '{main_string}' does not contain the word '{specific_word}'.\")\n"
   ]
  },
  {
   "cell_type": "code",
   "execution_count": 12,
   "id": "7567cbf7",
   "metadata": {},
   "outputs": [
    {
     "name": "stdout",
     "output_type": "stream",
     "text": [
      "Hi, World! Hi, Python!\n"
     ]
    }
   ],
   "source": [
    "def replace_word(input_str, old_word, new_word):\n",
    "    return input_str.replace(old_word, new_word)\n",
    "\n",
    "# Example usage:\n",
    "original_string = \"Hello, World! Hello, Python!\"\n",
    "old_word = \"Hello\"\n",
    "new_word = \"Hi\"\n",
    "\n",
    "modified_string = replace_word(original_string, old_word, new_word)\n",
    "print(modified_string)\n"
   ]
  },
  {
   "cell_type": "code",
   "execution_count": 13,
   "id": "b3548d07",
   "metadata": {},
   "outputs": [
    {
     "name": "stdout",
     "output_type": "stream",
     "text": [
      "The word 'Hello' appears 3 times in the string.\n"
     ]
    }
   ],
   "source": [
    "def count_occurrences(input_str, target_word):\n",
    "    return input_str.lower().count(target_word.lower())\n",
    "\n",
    "# Example usage:\n",
    "main_string = \"Hello, World! Hello, Python! Hello, World!\"\n",
    "target_word = \"Hello\"\n",
    "\n",
    "occurrences = count_occurrences(main_string, target_word)\n",
    "print(f\"The word '{target_word}' appears {occurrences} times in the string.\")\n"
   ]
  },
  {
   "cell_type": "code",
   "execution_count": 15,
   "id": "b171d246",
   "metadata": {},
   "outputs": [
    {
     "name": "stdout",
     "output_type": "stream",
     "text": [
      "The first occurrence of 'Hello' starts at index 0.\n"
     ]
    }
   ],
   "source": [
    "def find_first_occurrence(input_str, target_word):\n",
    "    return input_str.lower().find(target_word.lower())\n",
    "\n",
    "# Example usage:\n",
    "main_string = \"Hello, World! Hello, Python! Hello, World!\"\n",
    "target_word = \"Hello\"\n",
    "\n",
    "first_occurrence_index = find_first_occurrence(main_string, target_word)\n",
    "\n",
    "if first_occurrence_index != -1:\n",
    "    print(f\"The first occurrence of '{target_word}' starts at index {first_occurrence_index}.\")\n",
    "else:\n",
    "    print(f\"The word '{target_word}' is not found in the string.\")"
   ]
  },
  {
   "cell_type": "code",
   "execution_count": 16,
   "id": "f008c2de",
   "metadata": {},
   "outputs": [
    {
     "name": "stdout",
     "output_type": "stream",
     "text": [
      "The last occurrence of 'Hello' starts at index 29.\n"
     ]
    }
   ],
   "source": [
    "def find_last_occurrence(input_str, target_word):\n",
    "    return input_str.lower().rfind(target_word.lower())\n",
    "\n",
    "# Example usage:\n",
    "main_string = \"Hello, World! Hello, Python! Hello, World!\"\n",
    "target_word = \"Hello\"\n",
    "\n",
    "last_occurrence_index = find_last_occurrence(main_string, target_word)\n",
    "\n",
    "if last_occurrence_index != -1:\n",
    "    print(f\"The last occurrence of '{target_word}' starts at index {last_occurrence_index}.\")\n",
    "else:\n",
    "    print(f\"The word '{target_word}' is not found in the string.\")"
   ]
  },
  {
   "cell_type": "code",
   "execution_count": 17,
   "id": "57179f05",
   "metadata": {},
   "outputs": [
    {
     "name": "stdout",
     "output_type": "stream",
     "text": [
      "['Hello,', 'World!', 'Welcome', 'to', 'Python.']\n"
     ]
    }
   ],
   "source": [
    "def split_string(input_str):\n",
    "    return input_str.split()\n",
    "\n",
    "# Example usage:\n",
    "original_string = \"Hello, World! Welcome to Python.\"\n",
    "words_list = split_string(original_string)\n",
    "\n",
    "print(words_list)\n"
   ]
  },
  {
   "cell_type": "code",
   "execution_count": 18,
   "id": "6c96fff0",
   "metadata": {},
   "outputs": [
    {
     "name": "stdout",
     "output_type": "stream",
     "text": [
      "Hello, World! Welcome to Python.\n"
     ]
    }
   ],
   "source": [
    "def join_words(words_list):\n",
    "    return ' '.join(words_list)\n",
    "\n",
    "# Example usage:\n",
    "words_list = [\"Hello,\", \"World!\", \"Welcome\", \"to\", \"Python.\"]\n",
    "joined_string = join_words(words_list)\n",
    "\n",
    "print(joined_string)\n"
   ]
  },
  {
   "cell_type": "code",
   "execution_count": 1,
   "id": "a0ecbae3",
   "metadata": {},
   "outputs": [
    {
     "name": "stdout",
     "output_type": "stream",
     "text": [
      "The shortest word in the string is: The\n"
     ]
    }
   ],
   "source": [
    "def find_shortest_word(input_str):\n",
    "    words = input_str.split()\n",
    "    shortest_word = min(words, key=len)\n",
    "    return shortest_word\n",
    "\n",
    "# Example usage:\n",
    "original_string = \"The quick brown fox jumps over the lazy dog\"\n",
    "shortest_word = find_shortest_word(original_string)\n",
    "\n",
    "print(f\"The shortest word in the string is: {shortest_word}\")\n"
   ]
  },
  {
   "cell_type": "code",
   "execution_count": 2,
   "id": "7790ee2b",
   "metadata": {},
   "outputs": [
    {
     "name": "stdout",
     "output_type": "stream",
     "text": [
      "The shortest word in the string is: The\n"
     ]
    }
   ],
   "source": [
    "def find_shortest_word(input_str):\n",
    "    words = input_str.split()\n",
    "    if not words:\n",
    "        return None  # Handle the case when the input string is empty\n",
    "    shortest_word = min(words, key=len)\n",
    "    return shortest_word\n",
    "\n",
    "# Example usage:\n",
    "original_string = \"The quick brown fox jumps over the lazy dog\"\n",
    "shortest_word = find_shortest_word(original_string)\n",
    "\n",
    "if shortest_word is not None:\n",
    "    print(f\"The shortest word in the string is: {shortest_word}\")\n",
    "else:\n",
    "    print(\"The input string is empty.\")\n"
   ]
  },
  {
   "cell_type": "code",
   "execution_count": 3,
   "id": "dac899d9",
   "metadata": {},
   "outputs": [
    {
     "name": "stdout",
     "output_type": "stream",
     "text": [
      "Hello World\n"
     ]
    }
   ],
   "source": [
    "def to_title_case_manual(input_str):\n",
    "    words = input_str.split()\n",
    "    title_case_words = [word.capitalize() for word in words]\n",
    "    return ' '.join(title_case_words)\n",
    "\n",
    "# Example usage:\n",
    "original_string = \"hello world\"\n",
    "title_case_string_manual = to_title_case_manual(original_string)\n",
    "\n",
    "print(title_case_string_manual)\n"
   ]
  },
  {
   "cell_type": "code",
   "execution_count": 4,
   "id": "a673442d",
   "metadata": {},
   "outputs": [
    {
     "name": "stdout",
     "output_type": "stream",
     "text": [
      "The longest word in the string is: quick\n"
     ]
    }
   ],
   "source": [
    "def find_longest_word(input_str):\n",
    "    words = input_str.split()\n",
    "    if not words:\n",
    "        return None  # Handle the case when the input string has no words\n",
    "    longest_word = max(words, key=len)\n",
    "    return longest_word\n",
    "\n",
    "# Example usage:\n",
    "original_string = \"The quick brown fox jumps over the lazy dog\"\n",
    "longest_word = find_longest_word(original_string)\n",
    "\n",
    "if longest_word is not None:\n",
    "    print(f\"The longest word in the string is: {longest_word}\")\n",
    "else:\n",
    "    print(\"The input string has no words.\")\n"
   ]
  },
  {
   "cell_type": "code",
   "execution_count": 5,
   "id": "da1c2285",
   "metadata": {},
   "outputs": [
    {
     "name": "stdout",
     "output_type": "stream",
     "text": [
      "The shortest word in the string is: The\n"
     ]
    }
   ],
   "source": [
    "def find_shortest_word(input_str):\n",
    "    words = input_str.split()\n",
    "    if not words:\n",
    "        return None  # Handle the case when the input string has no words\n",
    "    shortest_word = min(words, key=len)\n",
    "    return shortest_word\n",
    "\n",
    "# Example usage:\n",
    "original_string = \"The quick brown fox jumps over the lazy dog\"\n",
    "shortest_word = find_shortest_word(original_string)\n",
    "\n",
    "if shortest_word is not None:\n",
    "    print(f\"The shortest word in the string is: {shortest_word}\")\n",
    "else:\n",
    "    print(\"The input string has no words.\")\n"
   ]
  },
  {
   "cell_type": "code",
   "execution_count": 6,
   "id": "1f2c81d1",
   "metadata": {},
   "outputs": [
    {
     "name": "stdout",
     "output_type": "stream",
     "text": [
      "The original string: The quick brown fox jumps over the lazy dog\n",
      "The string with reversed words: dog lazy the over jumps fox brown quick The\n"
     ]
    }
   ],
   "source": [
    "def reverse_words_order(input_str):\n",
    "    words = input_str.split()\n",
    "    reversed_words = ' '.join(reversed(words))\n",
    "    return reversed_words\n",
    "\n",
    "# Example usage:\n",
    "original_string = \"The quick brown fox jumps over the lazy dog\"\n",
    "reversed_string = reverse_words_order(original_string)\n",
    "\n",
    "print(f\"The original string: {original_string}\")\n",
    "print(f\"The string with reversed words: {reversed_string}\")\n"
   ]
  },
  {
   "cell_type": "code",
   "execution_count": 7,
   "id": "f3b2dbc7",
   "metadata": {},
   "outputs": [
    {
     "name": "stdout",
     "output_type": "stream",
     "text": [
      "Hello123 is alphanumeric.\n",
      "Hello 123 is not alphanumeric.\n"
     ]
    }
   ],
   "source": [
    "def is_alphanumeric(input_str):\n",
    "    return input_str.isalnum()\n",
    "\n",
    "# Example usage:\n",
    "string1 = \"Hello123\"\n",
    "string2 = \"Hello 123\"  # Contains a space, not alphanumeric\n",
    "\n",
    "if is_alphanumeric(string1):\n",
    "    print(f\"{string1} is alphanumeric.\")\n",
    "else:\n",
    "    print(f\"{string1} is not alphanumeric.\")\n",
    "\n",
    "if is_alphanumeric(string2):\n",
    "    print(f\"{string2} is alphanumeric.\")\n",
    "else:\n",
    "    print(f\"{string2} is not alphanumeric.\")\n"
   ]
  },
  {
   "cell_type": "code",
   "execution_count": 8,
   "id": "7047960a",
   "metadata": {},
   "outputs": [
    {
     "name": "stdout",
     "output_type": "stream",
     "text": [
      "The original string: Hello123! How are you today? 42\n",
      "The extracted digits: 12342\n"
     ]
    }
   ],
   "source": [
    "def extract_digits(input_str):\n",
    "    return ''.join(char for char in input_str if char.isdigit())\n",
    "\n",
    "# Example usage:\n",
    "original_string = \"Hello123! How are you today? 42\"\n",
    "digits_extracted = extract_digits(original_string)\n",
    "\n",
    "print(f\"The original string: {original_string}\")\n",
    "print(f\"The extracted digits: {digits_extracted}\")\n"
   ]
  },
  {
   "cell_type": "code",
   "execution_count": 9,
   "id": "7f904df0",
   "metadata": {},
   "outputs": [
    {
     "name": "stdout",
     "output_type": "stream",
     "text": [
      "The original string: Hello, World! How are you today?\n",
      "The number of uppercase letters: 3\n"
     ]
    }
   ],
   "source": [
    "def count_uppercase_letters(input_str):\n",
    "    return sum(1 for char in input_str if char.isupper())\n",
    "\n",
    "# Example usage:\n",
    "original_string = \"Hello, World! How are you today?\"\n",
    "uppercase_count = count_uppercase_letters(original_string)\n",
    "\n",
    "print(f\"The original string: {original_string}\")\n",
    "print(f\"The number of uppercase letters: {uppercase_count}\")\n"
   ]
  },
  {
   "cell_type": "code",
   "execution_count": 10,
   "id": "20a23ad0",
   "metadata": {},
   "outputs": [
    {
     "name": "stdout",
     "output_type": "stream",
     "text": [
      "The original string: Hello, World! How are you today?\n",
      "The number of lowercase letters: 21\n"
     ]
    }
   ],
   "source": [
    "def count_lowercase_letters(input_str):\n",
    "    return sum(1 for char in input_str if char.islower())\n",
    "\n",
    "# Example usage:\n",
    "original_string = \"Hello, World! How are you today?\"\n",
    "lowercase_count = count_lowercase_letters(original_string)\n",
    "\n",
    "print(f\"The original string: {original_string}\")\n",
    "print(f\"The number of lowercase letters: {lowercase_count}\")\n"
   ]
  },
  {
   "cell_type": "code",
   "execution_count": 11,
   "id": "7634e880",
   "metadata": {},
   "outputs": [
    {
     "name": "stdout",
     "output_type": "stream",
     "text": [
      "The original string: Hello, World! How are you today?\n",
      "The string with swapped case: hELLO, wORLD! hOW ARE YOU TODAY?\n"
     ]
    }
   ],
   "source": [
    "def swap_case(input_str):\n",
    "    return input_str.swapcase()\n",
    "\n",
    "# Example usage:\n",
    "original_string = \"Hello, World! How are you today?\"\n",
    "swapped_string = swap_case(original_string)\n",
    "\n",
    "print(f\"The original string: {original_string}\")\n",
    "print(f\"The string with swapped case: {swapped_string}\")\n"
   ]
  },
  {
   "cell_type": "code",
   "execution_count": 12,
   "id": "2ff7f0c9",
   "metadata": {},
   "outputs": [
    {
     "name": "stdout",
     "output_type": "stream",
     "text": [
      "This is a sample sentence with a word.\n"
     ]
    }
   ],
   "source": [
    "def remove_word(input_string, word_to_remove):\n",
    "    return ' '.join([word for word in input_string.split() if word != word_to_remove])\n",
    "\n",
    "# Example usage:\n",
    "input_str = \"This is a sample sentence with a specific word.\"\n",
    "word_to_remove = \"specific\"\n",
    "result_str = remove_word(input_str, word_to_remove)\n",
    "print(result_str)\n"
   ]
  },
  {
   "cell_type": "code",
   "execution_count": 14,
   "id": "07ab4a77",
   "metadata": {},
   "outputs": [
    {
     "ename": "SyntaxError",
     "evalue": "invalid syntax (3502041439.py, line 1)",
     "output_type": "error",
     "traceback": [
      "\u001b[1;36m  Cell \u001b[1;32mIn[14], line 1\u001b[1;36m\u001b[0m\n\u001b[1;33m    function isValidEmail(email) {\u001b[0m\n\u001b[1;37m             ^\u001b[0m\n\u001b[1;31mSyntaxError\u001b[0m\u001b[1;31m:\u001b[0m invalid syntax\n"
     ]
    }
   ],
   "source": [
    "function isValidEmail(email) {\n",
    "    const pattern = /^[\\w.-]+@[a-zA-Z\\d.-]+\\.[a-zA-Z]{2,}$/;\n",
    "    return pattern.test(email);\n",
    "}\n",
    "\n",
    "// Example usage:\n",
    "const emailAddress = \"roshansingh.88585@gmail.com\";\n",
    "if (isValidEmail(emailAddress)) {\n",
    "    console.log(`${emailAddress} is a valid email address.`);\n",
    "} else {\n",
    "    console.log(`${emailAddress} is not a valid email address.`);\n",
    "}\n"
   ]
  },
  {
   "cell_type": "code",
   "execution_count": 16,
   "id": "db0156ba",
   "metadata": {},
   "outputs": [
    {
     "name": "stdout",
     "output_type": "stream",
     "text": [
      "The username is: user\n"
     ]
    }
   ],
   "source": [
    "def extract_username(email):\n",
    "    return email.split('@')[0]\n",
    "\n",
    "# Example usage:\n",
    "email_address = \"user@example.com\"\n",
    "username = extract_username(email_address)\n",
    "print(f\"The username is: {username}\")\n"
   ]
  },
  {
   "cell_type": "code",
   "execution_count": 17,
   "id": "dddba048",
   "metadata": {},
   "outputs": [
    {
     "name": "stdout",
     "output_type": "stream",
     "text": [
      "This is an example with multiple spaces.\n"
     ]
    }
   ],
   "source": [
    "import re\n",
    "\n",
    "def replace_multiple_spaces(input_string):\n",
    "    return re.sub(' +', ' ', input_string)\n",
    "\n",
    "# Example usage:\n",
    "input_str = \"This     is    an   example    with    multiple    spaces.\"\n",
    "result_str = replace_multiple_spaces(input_str)\n",
    "print(result_str)\n"
   ]
  },
  {
   "cell_type": "code",
   "execution_count": 19,
   "id": "827c4591",
   "metadata": {},
   "outputs": [
    {
     "name": "stdout",
     "output_type": "stream",
     "text": [
      "https://Roshan singh.com is a valid URL.\n"
     ]
    }
   ],
   "source": [
    "import re\n",
    "from urllib.parse import urlparse\n",
    "\n",
    "def is_valid_url(url):\n",
    "    try:\n",
    "        result = urlparse(url)\n",
    "        return all([result.scheme, result.netloc])\n",
    "    except ValueError:\n",
    "        return False\n",
    "\n",
    "# Example usage:\n",
    "url_string = \"https://Roshan singh.com\"\n",
    "if is_valid_url(url_string):\n",
    "    print(f\"{url_string} is a valid URL.\")\n",
    "else:\n",
    "    print(f\"{url_string} is not a valid URL.\")"
   ]
  },
  {
   "cell_type": "code",
   "execution_count": 20,
   "id": "b5d198b6",
   "metadata": {},
   "outputs": [
    {
     "name": "stdout",
     "output_type": "stream",
     "text": [
      "The protocol is: https\n"
     ]
    }
   ],
   "source": [
    "from urllib.parse import urlparse\n",
    "\n",
    "def extract_protocol(url):\n",
    "    result = urlparse(url)\n",
    "    return result.scheme\n",
    "\n",
    "# Example usage:\n",
    "url_string = \"https://www.example.com\"\n",
    "protocol = extract_protocol(url_string)\n",
    "print(f\"The protocol is: {protocol}\")\n"
   ]
  },
  {
   "cell_type": "code",
   "execution_count": 21,
   "id": "057934f2",
   "metadata": {},
   "outputs": [
    {
     "name": "stdout",
     "output_type": "stream",
     "text": [
      "Character frequencies: {'h': 1, 'e': 1, 'l': 3, 'o': 2, ' ': 1, 'w': 1, 'r': 1, 'd': 1}\n"
     ]
    }
   ],
   "source": [
    "def character_frequency(input_string):\n",
    "    frequency = {}\n",
    "\n",
    "    for char in input_string:\n",
    "        if char in frequency:\n",
    "            frequency[char] += 1\n",
    "        else:\n",
    "            frequency[char] = 1\n",
    "\n",
    "    return frequency\n",
    "\n",
    "# Example usage:\n",
    "input_str = \"hello world\"\n",
    "freq = character_frequency(input_str)\n",
    "print(\"Character frequencies:\", freq)\n"
   ]
  },
  {
   "cell_type": "code",
   "execution_count": 22,
   "id": "90f7513d",
   "metadata": {},
   "outputs": [
    {
     "name": "stdout",
     "output_type": "stream",
     "text": [
      "String without punctuation: Hello World This is an example\n"
     ]
    }
   ],
   "source": [
    "import string\n",
    "\n",
    "def remove_punctuation(input_string):\n",
    "    return input_string.translate(str.maketrans(\"\", \"\", string.punctuation))\n",
    "\n",
    "# Example usage:\n",
    "input_str = \"Hello, World! This is an example.\"\n",
    "result_str = remove_punctuation(input_str)\n",
    "print(\"String without punctuation:\", result_str)\n"
   ]
  },
  {
   "cell_type": "code",
   "execution_count": 1,
   "id": "59481e0c",
   "metadata": {},
   "outputs": [
    {
     "name": "stdout",
     "output_type": "stream",
     "text": [
      "True\n"
     ]
    }
   ],
   "source": [
    "def contains_only_digits(s):\n",
    "    return s.isdigit()\n",
    "\n",
    "# Example usage:\n",
    "my_string = \"12345\"\n",
    "result = contains_only_digits(my_string)\n",
    "print(result)  # Output: True\n"
   ]
  },
  {
   "cell_type": "code",
   "execution_count": 2,
   "id": "30eb4ee0",
   "metadata": {},
   "outputs": [
    {
     "name": "stdout",
     "output_type": "stream",
     "text": [
      "True\n"
     ]
    }
   ],
   "source": [
    "def contains_only_alphabets(s):\n",
    "    return s.isalpha()\n",
    "\n",
    "# Example usage:\n",
    "my_string = \"HelloWorld\"\n",
    "result = contains_only_alphabets(my_string)\n",
    "print(result)  # Output: True\n"
   ]
  },
  {
   "cell_type": "code",
   "execution_count": 3,
   "id": "9cf895bb",
   "metadata": {},
   "outputs": [
    {
     "name": "stdout",
     "output_type": "stream",
     "text": [
      "['H', 'e', 'l', 'l', 'o', 'W', 'o', 'r', 'l', 'd']\n"
     ]
    }
   ],
   "source": [
    "my_string = \"HelloWorld\"\n",
    "char_list = list(my_string)\n",
    "print(char_list)\n",
    "# Output: ['H', 'e', 'l', 'l', 'o', 'W', 'o', 'r', 'l', 'd']\n"
   ]
  },
  {
   "cell_type": "code",
   "execution_count": 4,
   "id": "ab056ceb",
   "metadata": {},
   "outputs": [
    {
     "name": "stdout",
     "output_type": "stream",
     "text": [
      "True\n"
     ]
    }
   ],
   "source": [
    "def are_anagrams(str1, str2):\n",
    "    return sorted(str1) == sorted(str2)\n",
    "\n",
    "# Example usage:\n",
    "string1 = \"listen\"\n",
    "string2 = \"silent\"\n",
    "result = are_anagrams(string1, string2)\n",
    "print(result)  # Output: True\n"
   ]
  },
  {
   "cell_type": "code",
   "execution_count": 5,
   "id": "93a604d0",
   "metadata": {},
   "outputs": [
    {
     "name": "stdout",
     "output_type": "stream",
     "text": [
      "KhoorZruog\n"
     ]
    }
   ],
   "source": [
    "def caesar_cipher_encode(text, shift):\n",
    "    result = \"\"\n",
    "    for char in text:\n",
    "        if char.isalpha():\n",
    "            ascii_offset = ord('a') if char.islower() else ord('A')\n",
    "            result += chr((ord(char) - ascii_offset + shift) % 26 + ascii_offset)\n",
    "        else:\n",
    "            result += char\n",
    "    return result\n",
    "\n",
    "# Example usage:\n",
    "plaintext = \"HelloWorld\"\n",
    "shift_amount = 3\n",
    "cipher_text = caesar_cipher_encode(plaintext, shift_amount)\n",
    "print(cipher_text)\n",
    "# Output: \"KhoorZruog\"\n"
   ]
  },
  {
   "cell_type": "code",
   "execution_count": 6,
   "id": "38a30148",
   "metadata": {},
   "outputs": [
    {
     "name": "stdout",
     "output_type": "stream",
     "text": [
      "HelloWorld\n"
     ]
    }
   ],
   "source": [
    "def caesar_cipher_decode(text, shift):\n",
    "    return caesar_cipher_encode(text, -shift)\n",
    "\n",
    "# Example usage:\n",
    "cipher_text = \"KhoorZruog\"\n",
    "shift_amount = 3\n",
    "decoded_text = caesar_cipher_decode(cipher_text, shift_amount)\n",
    "print(decoded_text)\n",
    "# Output: \"HelloWorld\"\n"
   ]
  },
  {
   "cell_type": "code",
   "execution_count": 7,
   "id": "482d3505",
   "metadata": {},
   "outputs": [
    {
     "name": "stdout",
     "output_type": "stream",
     "text": [
      "This\n"
     ]
    }
   ],
   "source": [
    "from collections import Counter\n",
    "\n",
    "def most_frequent_word(s):\n",
    "    words = s.split()\n",
    "    word_counts = Counter(words)\n",
    "    most_common_word = word_counts.most_common(1)\n",
    "    return most_common_word[0][0]\n",
    "\n",
    "# Example usage:\n",
    "my_string = \"This is a sample string with some repeated words. This string is just for demonstration purposes.\"\n",
    "result = most_frequent_word(my_string)\n",
    "print(result)\n",
    "# Output: \"This\"\n"
   ]
  },
  {
   "cell_type": "code",
   "execution_count": 8,
   "id": "5a614ddb",
   "metadata": {},
   "outputs": [
    {
     "name": "stdout",
     "output_type": "stream",
     "text": [
      "['demonstration', 'for', 'purposes.', 'repeated', 'is', 'This', 'sample', 'words.', 'with', 'a', 'some', 'just', 'string']\n"
     ]
    }
   ],
   "source": [
    "def unique_words(s):\n",
    "    words = s.split()\n",
    "    unique_set = set(words)\n",
    "    return list(unique_set)\n",
    "\n",
    "# Example usage:\n",
    "my_string = \"This is a sample string with some repeated words. This string is just for demonstration purposes.\"\n",
    "result = unique_words(my_string)\n",
    "print(result)\n",
    "# Output: ['a', 'string', 'words.', 'sample', 'for', 'some', 'is', 'This', 'with', 'demonstration', 'just', 'purposes.', 'This', 'repeated']\n"
   ]
  },
  {
   "cell_type": "code",
   "execution_count": null,
   "id": "678bef1f",
   "metadata": {},
   "outputs": [],
   "source": [
    "import nltk\n",
    "\n",
    "nltk.download('averaged_perceptron_tagger')\n",
    "nltk.download('punkt')\n",
    "\n",
    "def count_syllables(text):\n",
    "    words = nltk.word_tokenize(text)\n",
    "    syllable_count = 0\n",
    "\n",
    "    for word in words:\n",
    "        syllables = nltk.syllables(word)\n",
    "        syllable_count += max(1, syllables)  # Ensure at least 1 syllable\n",
    "\n",
    "    return syllable_count\n",
    "\n",
    "# Example usage:\n",
    "my_string = \"Hello world, how are you doing?\"\n",
    "result = count_syllables(my_string)\n",
    "print(result)\n",
    "# Output: 10\n"
   ]
  },
  {
   "cell_type": "code",
   "execution_count": 10,
   "id": "8e7da6ee",
   "metadata": {},
   "outputs": [
    {
     "name": "stdout",
     "output_type": "stream",
     "text": [
      "True\n"
     ]
    }
   ],
   "source": [
    "import re\n",
    "\n",
    "def contains_special_characters(s):\n",
    "    # Define a regular expression to match any non-alphanumeric characters\n",
    "    pattern = re.compile('[^a-zA-Z0-9]')\n",
    "    return bool(pattern.search(s))\n",
    "\n",
    "# Example usage:\n",
    "my_string = \"Hello@World\"\n",
    "result = contains_special_characters(my_string)\n",
    "print(result)  # Output: True\n"
   ]
  },
  {
   "cell_type": "code",
   "execution_count": 11,
   "id": "be321b43",
   "metadata": {},
   "outputs": [
    {
     "name": "stdout",
     "output_type": "stream",
     "text": [
      "This is sample sentence.\n"
     ]
    }
   ],
   "source": [
    "def remove_nth_word(s, n):\n",
    "    words = s.split()\n",
    "    if 1 <= n <= len(words):\n",
    "        del words[n - 1]\n",
    "    return ' '.join(words)\n",
    "\n",
    "# Example usage:\n",
    "my_string = \"This is a sample sentence.\"\n",
    "position_to_remove = 3\n",
    "result = remove_nth_word(my_string, position_to_remove)\n",
    "print(result)\n",
    "# Output: \"This is sample sentence.\"\n"
   ]
  },
  {
   "cell_type": "code",
   "execution_count": 13,
   "id": "eea3d1dc",
   "metadata": {},
   "outputs": [
    {
     "name": "stdout",
     "output_type": "stream",
     "text": [
      "This is new a sample sentence.\n"
     ]
    }
   ],
   "source": [
    "def insert_word_at_nth_position(s, n, new_word):\n",
    "    words = s.split()\n",
    "    words.insert(n - 1, new_word)\n",
    "    return ' '.join(words)\n",
    "\n",
    "# Example usage:\n",
    "my_string = \"This is a sample sentence.\"\n",
    "position_to_insert = 3\n",
    "new_word = \"new\"\n",
    "result = insert_word_at_nth_position(my_string, position_to_insert, new_word)\n",
    "print(result)\n",
    "# Output: \"This is new a sample sentence.\"\n"
   ]
  },
  {
   "cell_type": "code",
   "execution_count": 14,
   "id": "9bf0edfa",
   "metadata": {},
   "outputs": [
    {
     "name": "stdout",
     "output_type": "stream",
     "text": [
      "[['Name', 'Age', 'Location'], ['John', '25', 'New York'], ['Alice', '30', 'Los Angeles']]\n"
     ]
    }
   ],
   "source": [
    "import csv\n",
    "from io import StringIO\n",
    "\n",
    "def csv_string_to_list_of_lists(csv_string):\n",
    "    csv_reader = csv.reader(StringIO(csv_string))\n",
    "    return [row for row in csv_reader]\n",
    "\n",
    "# Example usage:\n",
    "csv_string = \"Name,Age,Location\\nJohn,25,New York\\nAlice,30,Los Angeles\"\n",
    "result = csv_string_to_list_of_lists(csv_string)\n",
    "print(result)\n",
    "# Output: [['Name', 'Age', 'Location'], ['John', '25', 'New York'], ['Alice', '30', 'Los Angeles']]\n"
   ]
  },
  {
   "cell_type": "markdown",
   "id": "2fb6189d",
   "metadata": {},
   "source": [
    "List Based Practice Problem :"
   ]
  },
  {
   "cell_type": "code",
   "execution_count": 1,
   "id": "42f1cfaf",
   "metadata": {},
   "outputs": [],
   "source": [
    "my_list = [1, 2, 3, 4, 5, 6, 7, 8, 9, 10]\n"
   ]
  },
  {
   "cell_type": "code",
   "execution_count": 2,
   "id": "9fb55b6d",
   "metadata": {},
   "outputs": [
    {
     "name": "stdout",
     "output_type": "stream",
     "text": [
      "सूची की लंबाई: 10\n"
     ]
    }
   ],
   "source": [
    "my_list = [1, 2, 3, 4, 5, 6, 7, 8, 9, 10]\n",
    "\n",
    "# बिना len() फ़ंक्शन का उपयोग करें\n",
    "list_length = 0\n",
    "for element in my_list:\n",
    "    list_length += 1\n",
    "\n",
    "print(\"सूची की लंबाई:\", list_length)\n"
   ]
  },
  {
   "cell_type": "code",
   "execution_count": 3,
   "id": "e6e8cdec",
   "metadata": {},
   "outputs": [
    {
     "name": "stdout",
     "output_type": "stream",
     "text": [
      "Updated list: [1, 2, 3, 4, 5, 6]\n"
     ]
    }
   ],
   "source": [
    "my_list = [1, 2, 3, 4, 5]\n",
    "new_element = 6\n",
    "\n",
    "# Append the new element to the end of the list\n",
    "my_list.append(new_element)\n",
    "\n",
    "print(\"Updated list:\", my_list)\n"
   ]
  },
  {
   "cell_type": "code",
   "execution_count": 4,
   "id": "873aca1b",
   "metadata": {},
   "outputs": [
    {
     "name": "stdout",
     "output_type": "stream",
     "text": [
      "Updated list: [1, 2, 6, 3, 4, 5]\n"
     ]
    }
   ],
   "source": [
    "my_list = [1, 2, 3, 4, 5]\n",
    "new_element = 6\n",
    "index_to_insert = 2\n",
    "\n",
    "# Insert the new element at the specified index\n",
    "my_list.insert(index_to_insert, new_element)\n",
    "\n",
    "print(\"Updated list:\", my_list)\n"
   ]
  },
  {
   "cell_type": "code",
   "execution_count": 5,
   "id": "4d513982",
   "metadata": {},
   "outputs": [
    {
     "name": "stdout",
     "output_type": "stream",
     "text": [
      "Updated list: [1, 2, 4, 5]\n"
     ]
    }
   ],
   "source": [
    "my_list = [1, 2, 3, 4, 5]\n",
    "element_to_remove = 3\n",
    "\n",
    "# Remove the specified element from the list\n",
    "my_list.remove(element_to_remove)\n",
    "\n",
    "print(\"Updated list:\", my_list)\n"
   ]
  },
  {
   "cell_type": "code",
   "execution_count": 6,
   "id": "44beb154",
   "metadata": {},
   "outputs": [
    {
     "name": "stdout",
     "output_type": "stream",
     "text": [
      "Updated list: [1, 2, 4, 5]\n",
      "Removed element: 3\n"
     ]
    }
   ],
   "source": [
    "my_list = [1, 2, 3, 4, 5]\n",
    "index_to_remove = 2\n",
    "\n",
    "# Remove the element at the specified index\n",
    "removed_element = my_list.pop(index_to_remove)\n",
    "\n",
    "print(\"Updated list:\", my_list)\n",
    "print(\"Removed element:\", removed_element)\n"
   ]
  },
  {
   "cell_type": "code",
   "execution_count": 7,
   "id": "7d5b815a",
   "metadata": {},
   "outputs": [
    {
     "name": "stdout",
     "output_type": "stream",
     "text": [
      "3 exists in the list.\n"
     ]
    }
   ],
   "source": [
    "my_list = [1, 2, 3, 4, 5]\n",
    "element_to_check = 3\n",
    "\n",
    "# Check if the element exists in the list\n",
    "if element_to_check in my_list:\n",
    "    print(f\"{element_to_check} exists in the list.\")\n",
    "else:\n",
    "    print(f\"{element_to_check} does not exist in the list.\")\n"
   ]
  },
  {
   "cell_type": "code",
   "execution_count": 8,
   "id": "b55cbb87",
   "metadata": {},
   "outputs": [
    {
     "name": "stdout",
     "output_type": "stream",
     "text": [
      "The index of the first occurrence of 3 is: 2\n"
     ]
    }
   ],
   "source": [
    "my_list = [1, 2, 3, 4, 5, 3]\n",
    "element_to_find = 3\n",
    "\n",
    "# Find the index of the first occurrence of the element\n",
    "index_of_element = my_list.index(element_to_find)\n",
    "\n",
    "print(f\"The index of the first occurrence of {element_to_find} is: {index_of_element}\")\n"
   ]
  },
  {
   "cell_type": "code",
   "execution_count": 9,
   "id": "f433685b",
   "metadata": {},
   "outputs": [
    {
     "name": "stdout",
     "output_type": "stream",
     "text": [
      "The element 3 appears 3 times in the list.\n"
     ]
    }
   ],
   "source": [
    "my_list = [1, 2, 3, 4, 5, 3, 3]\n",
    "element_to_count = 3\n",
    "\n",
    "# Count the occurrences of the element\n",
    "occurrences = my_list.count(element_to_count)\n",
    "\n",
    "print(f\"The element {element_to_count} appears {occurrences} times in the list.\")\n"
   ]
  },
  {
   "cell_type": "code",
   "execution_count": 11,
   "id": "664b5a53",
   "metadata": {},
   "outputs": [
    {
     "name": "stdout",
     "output_type": "stream",
     "text": [
      "Reversed list: [5, 4, 3, 2, 1]\n",
      "Reversed list: [5, 4, 3, 2, 1]\n"
     ]
    }
   ],
   "source": [
    "my_list = [1, 2, 3, 4, 5]\n",
    "\n",
    "# Reverse the order of elements using the reverse() method\n",
    "my_list.reverse()\n",
    "\n",
    "print(\"Reversed list:\", my_list)\n",
    "my_list = [1, 2, 3, 4, 5]\n",
    "\n",
    "# Reverse the order of elements using slicing\n",
    "reversed_list = my_list[::-1]\n",
    "\n",
    "print(\"Reversed list:\", reversed_list)\n"
   ]
  },
  {
   "cell_type": "code",
   "execution_count": 12,
   "id": "3151bab4",
   "metadata": {},
   "outputs": [
    {
     "name": "stdout",
     "output_type": "stream",
     "text": [
      "[1, 2, 3, 4, 7, 9]\n"
     ]
    }
   ],
   "source": [
    "my_list = [4, 1, 7, 3, 9, 2]\n",
    "sorted_list = sorted(my_list)\n",
    "print(sorted_list)\n"
   ]
  },
  {
   "cell_type": "code",
   "execution_count": 13,
   "id": "b5a0a3e7",
   "metadata": {},
   "outputs": [
    {
     "name": "stdout",
     "output_type": "stream",
     "text": [
      "[1, 2, 3, 4, 7, 9]\n"
     ]
    }
   ],
   "source": [
    "my_list = [4, 1, 7, 3, 9, 2]\n",
    "my_list.sort()\n",
    "print(my_list)\n"
   ]
  },
  {
   "cell_type": "code",
   "execution_count": 14,
   "id": "0432fe0f",
   "metadata": {},
   "outputs": [
    {
     "name": "stdout",
     "output_type": "stream",
     "text": [
      "[9, 7, 4, 3, 2, 1]\n"
     ]
    }
   ],
   "source": [
    "my_list = [4, 1, 7, 3, 9, 2]\n",
    "sorted_list_desc = sorted(my_list, reverse=True)\n",
    "print(sorted_list_desc)\n"
   ]
  },
  {
   "cell_type": "code",
   "execution_count": 15,
   "id": "66e0ef93",
   "metadata": {},
   "outputs": [
    {
     "name": "stdout",
     "output_type": "stream",
     "text": [
      "[9, 7, 4, 3, 2, 1]\n"
     ]
    }
   ],
   "source": [
    "my_list = [4, 1, 7, 3, 9, 2]\n",
    "my_list.sort(reverse=True)\n",
    "print(my_list)\n"
   ]
  },
  {
   "cell_type": "code",
   "execution_count": 16,
   "id": "29d3f97d",
   "metadata": {},
   "outputs": [
    {
     "name": "stdout",
     "output_type": "stream",
     "text": [
      "[2, 4, 6, 8, 10, 12, 14, 16, 18, 20]\n"
     ]
    }
   ],
   "source": [
    "even_numbers = [x for x in range(2, 21, 2)]\n",
    "print(even_numbers)\n"
   ]
  },
  {
   "cell_type": "code",
   "execution_count": 17,
   "id": "49dc5369",
   "metadata": {},
   "outputs": [
    {
     "name": "stdout",
     "output_type": "stream",
     "text": [
      "[1, 3, 5, 7, 9, 11, 13, 15, 17, 19]\n"
     ]
    }
   ],
   "source": [
    "odd_numbers = [x for x in range(1, 21) if x % 2 != 0]\n",
    "print(odd_numbers)\n"
   ]
  },
  {
   "cell_type": "code",
   "execution_count": 18,
   "id": "a6e6b7ef",
   "metadata": {},
   "outputs": [
    {
     "name": "stdout",
     "output_type": "stream",
     "text": [
      "30\n"
     ]
    }
   ],
   "source": [
    "my_list = [2, 4, 6, 8, 10]\n",
    "sum_of_elements = sum(my_list)\n",
    "print(sum_of_elements)\n"
   ]
  },
  {
   "cell_type": "code",
   "execution_count": 19,
   "id": "80600232",
   "metadata": {},
   "outputs": [
    {
     "name": "stdout",
     "output_type": "stream",
     "text": [
      "9\n"
     ]
    }
   ],
   "source": [
    "my_list = [3, 8, 1, 6, 9, 4]\n",
    "maximum_value = max(my_list)\n",
    "print(maximum_value)\n"
   ]
  },
  {
   "cell_type": "code",
   "execution_count": 20,
   "id": "bd8e9dd4",
   "metadata": {},
   "outputs": [
    {
     "name": "stdout",
     "output_type": "stream",
     "text": [
      "1\n"
     ]
    }
   ],
   "source": [
    "my_list = [3, 8, 1, 6, 9, 4]\n",
    "minimum_value = min(my_list)\n",
    "print(minimum_value)\n"
   ]
  },
  {
   "cell_type": "code",
   "execution_count": 21,
   "id": "6aa2ec83",
   "metadata": {},
   "outputs": [
    {
     "name": "stdout",
     "output_type": "stream",
     "text": [
      "[1, 4, 9, 16, 25, 36, 49, 64, 81, 100]\n"
     ]
    }
   ],
   "source": [
    "squares_list = [x**2 for x in range(1, 11)]\n",
    "print(squares_list)\n"
   ]
  },
  {
   "cell_type": "code",
   "execution_count": 22,
   "id": "36558493",
   "metadata": {},
   "outputs": [
    {
     "name": "stdout",
     "output_type": "stream",
     "text": [
      "[40, 74, 13, 83, 60, 79, 82, 69, 29, 55]\n"
     ]
    }
   ],
   "source": [
    "import random\n",
    "\n",
    "random_numbers = [random.randint(1, 100) for _ in range(10)]\n",
    "print(random_numbers)\n"
   ]
  },
  {
   "cell_type": "code",
   "execution_count": 23,
   "id": "7cf9f955",
   "metadata": {},
   "outputs": [
    {
     "name": "stdout",
     "output_type": "stream",
     "text": [
      "[45.530099650099714, 70.98268581726013, 84.23991719099533, 65.22755984981171, 21.350362325981365, 73.36340854541452, 89.20592238613379, 64.93334397735978, 22.987056971504874, 64.04700510351897]\n"
     ]
    }
   ],
   "source": [
    "random_floats = [random.uniform(1.0, 100.0) for _ in range(10)]\n",
    "print(random_floats)\n"
   ]
  },
  {
   "cell_type": "code",
   "execution_count": 24,
   "id": "a46ec86b",
   "metadata": {},
   "outputs": [
    {
     "name": "stdout",
     "output_type": "stream",
     "text": [
      "[1, 2, 3, 4, 5]\n"
     ]
    }
   ],
   "source": [
    "original_list = [1, 2, 2, 3, 4, 4, 5]\n",
    "unique_list = list(set(original_list))\n",
    "print(unique_list)\n"
   ]
  },
  {
   "cell_type": "code",
   "execution_count": 25,
   "id": "d60c3e0c",
   "metadata": {},
   "outputs": [
    {
     "name": "stdout",
     "output_type": "stream",
     "text": [
      "[1, 2, 3, 4, 5]\n"
     ]
    }
   ],
   "source": [
    "original_list = [1, 2, 2, 3, 4, 4, 5]\n",
    "unique_list = []\n",
    "[unique_list.append(x) for x in original_list if x not in unique_list]\n",
    "print(unique_list)\n"
   ]
  },
  {
   "cell_type": "code",
   "execution_count": 26,
   "id": "c932211f",
   "metadata": {},
   "outputs": [
    {
     "name": "stdout",
     "output_type": "stream",
     "text": [
      "[3, 4, 5]\n"
     ]
    }
   ],
   "source": [
    "list1 = [1, 2, 3, 4, 5]\n",
    "list2 = [3, 4, 5, 6, 7]\n",
    "\n",
    "common_elements = list(set(list1) & set(list2))\n",
    "print(common_elements)\n"
   ]
  },
  {
   "cell_type": "code",
   "execution_count": 27,
   "id": "93f8a7e6",
   "metadata": {},
   "outputs": [
    {
     "name": "stdout",
     "output_type": "stream",
     "text": [
      "[3, 4, 5]\n"
     ]
    }
   ],
   "source": [
    "list1 = [1, 2, 3, 4, 5]\n",
    "list2 = [3, 4, 5, 6, 7]\n",
    "\n",
    "common_elements = [x for x in list1 if x in list2]\n",
    "print(common_elements)\n"
   ]
  },
  {
   "cell_type": "code",
   "execution_count": 1,
   "id": "b27bc6d5",
   "metadata": {},
   "outputs": [
    {
     "name": "stdout",
     "output_type": "stream",
     "text": [
      "The difference between the two lists is: [1, 2]\n"
     ]
    }
   ],
   "source": [
    "list1 = [1, 2, 3, 4, 5]\n",
    "list2 = [3, 4, 5, 6, 7]\n",
    "\n",
    "# Convert lists to sets\n",
    "set1 = set(list1)\n",
    "set2 = set(list2)\n",
    "\n",
    "# Find the difference between the two sets\n",
    "difference = set1 - set2\n",
    "\n",
    "# Convert the result back to a list\n",
    "result_list = list(difference)\n",
    "\n",
    "print(\"The difference between the two lists is:\", result_list)\n"
   ]
  },
  {
   "cell_type": "code",
   "execution_count": 2,
   "id": "3a573230",
   "metadata": {},
   "outputs": [
    {
     "name": "stdout",
     "output_type": "stream",
     "text": [
      "The symmetric difference between the two lists is: [1, 2, 6, 7]\n"
     ]
    }
   ],
   "source": [
    "symmetric_difference = set1.symmetric_difference(set2)\n",
    "result_list_symmetric = list(symmetric_difference)\n",
    "\n",
    "print(\"The symmetric difference between the two lists is:\", result_list_symmetric)\n"
   ]
  },
  {
   "cell_type": "code",
   "execution_count": 4,
   "id": "d218728b",
   "metadata": {},
   "outputs": [
    {
     "name": "stdout",
     "output_type": "stream",
     "text": [
      "Merged list: [0, 1, 2, 3, 4, 5, 6, 6, 3, 9]\n"
     ]
    }
   ],
   "source": [
    "list1 = [0,1,2,3,4,5]\n",
    "list2 = [6,6,3,9]\n",
    "\n",
    "# Merge the two lists using the + operator\n",
    "merged_list = list1 + list2\n",
    "\n",
    "print(\"Merged list:\", merged_list)\n"
   ]
  },
  {
   "cell_type": "code",
   "execution_count": 5,
   "id": "418e3f15",
   "metadata": {},
   "outputs": [
    {
     "name": "stdout",
     "output_type": "stream",
     "text": [
      "Merged list: [1, 2, 3, 4, 5, 6]\n"
     ]
    }
   ],
   "source": [
    "list1 = [1, 2, 3]\n",
    "list2 = [4, 5, 6]\n",
    "\n",
    "# Use the extend() method to add elements of list2 to list1\n",
    "list1.extend(list2)\n",
    "\n",
    "print(\"Merged list:\", list1)\n"
   ]
  },
  {
   "cell_type": "code",
   "execution_count": 6,
   "id": "bb15dd71",
   "metadata": {},
   "outputs": [
    {
     "name": "stdout",
     "output_type": "stream",
     "text": [
      "[1, 3, 5, 7, 9]\n"
     ]
    }
   ],
   "source": [
    "original_list = [1, 2, 3, 4, 5, 6, 7, 8, 9, 10]\n",
    "\n",
    "filtered_list = list(filter(lambda x: x % 2 != 0, original_list))\n",
    "\n",
    "print(filtered_list)\n"
   ]
  },
  {
   "cell_type": "code",
   "execution_count": 7,
   "id": "bb1f225b",
   "metadata": {},
   "outputs": [
    {
     "name": "stdout",
     "output_type": "stream",
     "text": [
      "[1, 3, 5, 7, 9]\n"
     ]
    }
   ],
   "source": [
    "original_list = [1, 2, 3, 4, 5, 6, 7, 8, 9, 10]\n",
    "\n",
    "filtered_list = [x for x in original_list if x % 2 != 0]\n",
    "\n",
    "print(filtered_list)\n"
   ]
  },
  {
   "cell_type": "code",
   "execution_count": 8,
   "id": "da84169e",
   "metadata": {},
   "outputs": [
    {
     "name": "stdout",
     "output_type": "stream",
     "text": [
      "[1, 2, 3, 4, 5]\n"
     ]
    }
   ],
   "source": [
    "string_list = [\"1\", \"2\", \"3\", \"4\", \"5\"]\n",
    "\n",
    "integer_list = [int(x) for x in string_list]\n",
    "\n",
    "print(integer_list)\n"
   ]
  },
  {
   "cell_type": "code",
   "execution_count": 9,
   "id": "4683c04f",
   "metadata": {},
   "outputs": [
    {
     "name": "stdout",
     "output_type": "stream",
     "text": [
      "[1, 2, 3, 4, 5]\n"
     ]
    }
   ],
   "source": [
    "string_list = [\"1\", \"2\", \"3\", \"4\", \"5\"]\n",
    "\n",
    "integer_list = list(map(int, string_list))\n",
    "\n",
    "print(integer_list)\n"
   ]
  },
  {
   "cell_type": "code",
   "execution_count": 10,
   "id": "f61c61e6",
   "metadata": {},
   "outputs": [
    {
     "name": "stdout",
     "output_type": "stream",
     "text": [
      "['1', '2', '3', '4', '5']\n"
     ]
    }
   ],
   "source": [
    "integer_list = [1, 2, 3, 4, 5]\n",
    "\n",
    "string_list = [str(x) for x in integer_list]\n",
    "\n",
    "print(string_list)\n"
   ]
  },
  {
   "cell_type": "code",
   "execution_count": 11,
   "id": "6474e882",
   "metadata": {},
   "outputs": [
    {
     "name": "stdout",
     "output_type": "stream",
     "text": [
      "['1', '2', '3', '4', '5']\n"
     ]
    }
   ],
   "source": [
    "integer_list = [1, 2, 3, 4, 5]\n",
    "\n",
    "string_list = list(map(str, integer_list))\n",
    "\n",
    "print(string_list)\n"
   ]
  },
  {
   "cell_type": "code",
   "execution_count": 12,
   "id": "c97f4872",
   "metadata": {},
   "outputs": [
    {
     "name": "stdout",
     "output_type": "stream",
     "text": [
      "[1, 2, 3, 4, 5, 6, 7, 8]\n"
     ]
    }
   ],
   "source": [
    "def flatten_list(nested_list):\n",
    "    flat_list = []\n",
    "    for item in nested_list:\n",
    "        if isinstance(item, list):\n",
    "            flat_list.extend(flatten_list(item))\n",
    "        else:\n",
    "            flat_list.append(item)\n",
    "    return flat_list\n",
    "\n",
    "nested_list = [1, [2, 3, [4, 5]], 6, [7, 8]]\n",
    "flattened_list = flatten_list(nested_list)\n",
    "\n",
    "print(flattened_list)\n"
   ]
  },
  {
   "cell_type": "code",
   "execution_count": 13,
   "id": "f4de823f",
   "metadata": {},
   "outputs": [
    {
     "ename": "TypeError",
     "evalue": "'int' object is not iterable",
     "output_type": "error",
     "traceback": [
      "\u001b[1;31m---------------------------------------------------------------------------\u001b[0m",
      "\u001b[1;31mTypeError\u001b[0m                                 Traceback (most recent call last)",
      "Cell \u001b[1;32mIn[13], line 4\u001b[0m\n\u001b[0;32m      1\u001b[0m \u001b[38;5;28;01mfrom\u001b[39;00m \u001b[38;5;21;01mitertools\u001b[39;00m \u001b[38;5;28;01mimport\u001b[39;00m chain\n\u001b[0;32m      3\u001b[0m nested_list \u001b[38;5;241m=\u001b[39m [\u001b[38;5;241m1\u001b[39m, [\u001b[38;5;241m2\u001b[39m, \u001b[38;5;241m3\u001b[39m, [\u001b[38;5;241m4\u001b[39m, \u001b[38;5;241m5\u001b[39m]], \u001b[38;5;241m6\u001b[39m, [\u001b[38;5;241m7\u001b[39m, \u001b[38;5;241m8\u001b[39m]]\n\u001b[1;32m----> 4\u001b[0m flattened_list \u001b[38;5;241m=\u001b[39m \u001b[38;5;28mlist\u001b[39m(chain(\u001b[38;5;241m*\u001b[39mnested_list))\n\u001b[0;32m      6\u001b[0m \u001b[38;5;28mprint\u001b[39m(flattened_list)\n",
      "\u001b[1;31mTypeError\u001b[0m: 'int' object is not iterable"
     ]
    }
   ],
   "source": [
    "from itertools import chain\n",
    "\n",
    "nested_list = [1, [2, 3, [4, 5]], 6, [7, 8]]\n",
    "flattened_list = list(chain(*nested_list))\n",
    "\n",
    "print(flattened_list)\n"
   ]
  },
  {
   "cell_type": "code",
   "execution_count": 14,
   "id": "eab03ab5",
   "metadata": {},
   "outputs": [
    {
     "name": "stdout",
     "output_type": "stream",
     "text": [
      "[0, 1, 1, 2, 3, 5, 8, 13, 21, 34]\n"
     ]
    }
   ],
   "source": [
    "def generate_fibonacci(n):\n",
    "    fibonacci_list = [0, 1]\n",
    "    while len(fibonacci_list) < n:\n",
    "        next_number = fibonacci_list[-1] + fibonacci_list[-2]\n",
    "        fibonacci_list.append(next_number)\n",
    "    return fibonacci_list[:n]\n",
    "\n",
    "first_10_fibonacci = generate_fibonacci(10)\n",
    "print(first_10_fibonacci)\n"
   ]
  },
  {
   "cell_type": "code",
   "execution_count": 15,
   "id": "2ae8e3a1",
   "metadata": {},
   "outputs": [
    {
     "name": "stdout",
     "output_type": "stream",
     "text": [
      "True\n",
      "False\n"
     ]
    }
   ],
   "source": [
    "def is_sorted(lst):\n",
    "    return all(lst[i] <= lst[i + 1] for i in range(len(lst) - 1))\n",
    "\n",
    "# Example usage:\n",
    "sorted_list = [1, 2, 3, 4, 5]\n",
    "unsorted_list = [3, 1, 4, 1, 5, 9, 2, 6]\n",
    "\n",
    "print(is_sorted(sorted_list))    # Output: True\n",
    "print(is_sorted(unsorted_list))  # Output: False\n"
   ]
  },
  {
   "cell_type": "code",
   "execution_count": 16,
   "id": "bb4f0cef",
   "metadata": {},
   "outputs": [
    {
     "name": "stdout",
     "output_type": "stream",
     "text": [
      "[3, 4, 5, 1, 2]\n"
     ]
    }
   ],
   "source": [
    "def rotate_left(lst, n):\n",
    "    n = n % len(lst)  # Ensure n is within the length of the list\n",
    "    rotated_list = lst[n:] + lst[:n]\n",
    "    return rotated_list\n",
    "\n",
    "# Example usage:\n",
    "original_list = [1, 2, 3, 4, 5]\n",
    "n_positions = 2\n",
    "\n",
    "rotated_list = rotate_left(original_list, n_positions)\n",
    "print(rotated_list)\n"
   ]
  },
  {
   "cell_type": "code",
   "execution_count": 17,
   "id": "99648ecb",
   "metadata": {},
   "outputs": [
    {
     "name": "stdout",
     "output_type": "stream",
     "text": [
      "[4, 5, 1, 2, 3]\n"
     ]
    }
   ],
   "source": [
    "def rotate_right(lst, n):\n",
    "    n = n % len(lst)  # Ensure n is within the length of the list\n",
    "    rotated_list = lst[-n:] + lst[:-n]\n",
    "    return rotated_list\n",
    "\n",
    "# Example usage:\n",
    "original_list = [1, 2, 3, 4, 5]\n",
    "n_positions = 2\n",
    "\n",
    "rotated_list = rotate_right(original_list, n_positions)\n",
    "print(rotated_list)\n"
   ]
  },
  {
   "cell_type": "code",
   "execution_count": 18,
   "id": "765d2710",
   "metadata": {},
   "outputs": [
    {
     "name": "stdout",
     "output_type": "stream",
     "text": [
      "[2, 3, 5, 7, 11, 13, 17, 19, 23, 29, 31, 37, 41, 43, 47]\n"
     ]
    }
   ],
   "source": [
    "def is_prime(num):\n",
    "    if num < 2:\n",
    "        return False\n",
    "    for i in range(2, int(num**0.5) + 1):\n",
    "        if num % i == 0:\n",
    "            return False\n",
    "    return True\n",
    "\n",
    "# Generate a list of prime numbers up to 50\n",
    "primes_up_to_50 = [num for num in range(2, 51) if is_prime(num)]\n",
    "\n",
    "print(primes_up_to_50)\n"
   ]
  },
  {
   "cell_type": "code",
   "execution_count": 19,
   "id": "22e3adf5",
   "metadata": {},
   "outputs": [
    {
     "name": "stdout",
     "output_type": "stream",
     "text": [
      "[[1, 2, 3], [4, 5, 6], [7, 8, 9], [10]]\n"
     ]
    }
   ],
   "source": [
    "def chunk_list(lst, n):\n",
    "    return [lst[i:i + n] for i in range(0, len(lst), n)]\n",
    "\n",
    "# Example usage:\n",
    "original_list = [1, 2, 3, 4, 5, 6, 7, 8, 9, 10]\n",
    "chunk_size = 3\n",
    "\n",
    "chunked_list = chunk_list(original_list, chunk_size)\n",
    "print(chunked_list)\n"
   ]
  },
  {
   "cell_type": "code",
   "execution_count": 26,
   "id": "8bc456ad",
   "metadata": {},
   "outputs": [
    {
     "name": "stdout",
     "output_type": "stream",
     "text": [
      "[1, 1, 2, 6, 24, 120, 720, 5040, 40320, 362880]\n"
     ]
    }
   ],
   "source": [
    "def factorial(n):\n",
    "    if n == 0 or n == 1:\n",
    "        return 1\n",
    "    else:\n",
    "        return n * factorial(n - 1)\n",
    "\n",
    "first_10_factorials = [factorial(i) for i in range(10)]\n",
    "\n",
    "print(first_10_factorials)\n"
   ]
  },
  {
   "cell_type": "code",
   "execution_count": 27,
   "id": "5f85361e",
   "metadata": {},
   "outputs": [
    {
     "name": "stdout",
     "output_type": "stream",
     "text": [
      "True\n"
     ]
    }
   ],
   "source": [
    "def have_common_element(list1, list2):\n",
    "    return any(element in list2 for element in list1)\n",
    "\n",
    "# Example usage:\n",
    "list_a = [1, 2, 3, 4, 5]\n",
    "list_b = [5, 6, 7, 8, 9]\n",
    "\n",
    "result = have_common_element(list_a, list_b)\n",
    "print(result)\n",
    "\n"
   ]
  },
  {
   "cell_type": "code",
   "execution_count": 28,
   "id": "d3d45cde",
   "metadata": {},
   "outputs": [
    {
     "name": "stdout",
     "output_type": "stream",
     "text": [
      "[]\n"
     ]
    }
   ],
   "source": [
    "original_list = [1, 2, 3, 4, 5]\n",
    "\n",
    "# Remove all elements using the clear method\n",
    "original_list.clear()\n",
    "\n",
    "print(original_list)\n"
   ]
  },
  {
   "cell_type": "code",
   "execution_count": 29,
   "id": "f8f56fa0",
   "metadata": {},
   "outputs": [
    {
     "name": "stdout",
     "output_type": "stream",
     "text": [
      "[]\n"
     ]
    }
   ],
   "source": [
    "original_list = [1, 2, 3, 4, 5]\n",
    "\n",
    "# Remove all elements using slicing\n",
    "original_list[:] = []\n",
    "\n",
    "print(original_list)\n"
   ]
  },
  {
   "cell_type": "code",
   "execution_count": 30,
   "id": "15a440f3",
   "metadata": {},
   "outputs": [
    {
     "name": "stdout",
     "output_type": "stream",
     "text": [
      "[1, 0, 3, 0, 5]\n"
     ]
    }
   ],
   "source": [
    "original_list = [1, -2, 3, -4, 5]\n",
    "\n",
    "# Replace negative numbers with 0 using list comprehension\n",
    "modified_list = [max(0, x) for x in original_list]\n",
    "\n",
    "print(modified_list)\n"
   ]
  },
  {
   "cell_type": "code",
   "execution_count": 31,
   "id": "621a8154",
   "metadata": {},
   "outputs": [
    {
     "name": "stdout",
     "output_type": "stream",
     "text": [
      "['Hello,', 'this', 'is', 'a', 'sample', 'string.']\n"
     ]
    }
   ],
   "source": [
    "\n",
    "input_string = \"Hello, this is a sample string.\"\n",
    "\n",
    "# Split the string into a list of words\n",
    "word_list = input_string.split()\n",
    "\n",
    "print(word_list)\n"
   ]
  },
  {
   "cell_type": "code",
   "execution_count": 32,
   "id": "506ab564",
   "metadata": {},
   "outputs": [
    {
     "name": "stdout",
     "output_type": "stream",
     "text": [
      "Hello, this is a sample string.\n"
     ]
    }
   ],
   "source": [
    "word_list = ['Hello,', 'this', 'is', 'a', 'sample', 'string.']\n",
    "\n",
    "# Join the list of words into a string\n",
    "result_string = ' '.join(word_list)\n",
    "\n",
    "print(result_string)\n"
   ]
  },
  {
   "cell_type": "code",
   "execution_count": 33,
   "id": "f4ec3746",
   "metadata": {},
   "outputs": [
    {
     "name": "stdout",
     "output_type": "stream",
     "text": [
      "[1, 2, 4, 8, 16]\n"
     ]
    }
   ],
   "source": [
    "n = 5  # replace with the desired number of powers\n",
    "\n",
    "powers_of_two = [2**i for i in range(n)]\n",
    "\n",
    "print(powers_of_two)\n"
   ]
  },
  {
   "cell_type": "code",
   "execution_count": 1,
   "id": "75e87cc1",
   "metadata": {},
   "outputs": [
    {
     "name": "stdout",
     "output_type": "stream",
     "text": [
      "['This', 'is', 'a', 'sample', 'string.']\n"
     ]
    }
   ],
   "source": [
    "# Sample string\n",
    "input_string = \"This is a sample string.\"\n",
    "\n",
    "# Convert the string into a list of words\n",
    "word_list = input_string.split()\n",
    "\n",
    "# Display the result\n",
    "print(word_list)\n"
   ]
  },
  {
   "cell_type": "code",
   "execution_count": 2,
   "id": "4091c357",
   "metadata": {},
   "outputs": [
    {
     "name": "stdout",
     "output_type": "stream",
     "text": [
      "This is a sample string.\n"
     ]
    }
   ],
   "source": [
    "# Sample list of words\n",
    "word_list = [\"This\", \"is\", \"a\", \"sample\", \"string.\"]\n",
    "\n",
    "# Convert the list of words into a string\n",
    "result_string = ' '.join(word_list)\n",
    "\n",
    "# Display the result\n",
    "print(result_string)\n"
   ]
  },
  {
   "cell_type": "code",
   "execution_count": 3,
   "id": "2b916c12",
   "metadata": {},
   "outputs": [
    {
     "name": "stdout",
     "output_type": "stream",
     "text": [
      "[1, 2, 4, 8, 16]\n"
     ]
    }
   ],
   "source": [
    "# Specify the value of n\n",
    "n = 5  # You can change this to any desired number\n",
    "\n",
    "# Create a list of the first n powers of 2 using list comprehension\n",
    "powers_of_2 = [2 ** i for i in range(n)]\n",
    "\n",
    "# Display the result\n",
    "print(powers_of_2)\n"
   ]
  },
  {
   "cell_type": "code",
   "execution_count": 4,
   "id": "9c340b08",
   "metadata": {},
   "outputs": [
    {
     "name": "stdout",
     "output_type": "stream",
     "text": [
      "Longest string: strawberry\n"
     ]
    }
   ],
   "source": [
    "# Sample list of strings\n",
    "string_list = [\"apple\", \"banana\", \"orange\", \"strawberry\", \"kiwi\"]\n",
    "\n",
    "# Find the longest string in the list\n",
    "longest_string = max(string_list, key=len)\n",
    "\n",
    "# Display the result\n",
    "print(\"Longest string:\", longest_string)\n"
   ]
  },
  {
   "cell_type": "code",
   "execution_count": 5,
   "id": "68d17905",
   "metadata": {},
   "outputs": [
    {
     "name": "stdout",
     "output_type": "stream",
     "text": [
      "Shortest string: kiwi\n"
     ]
    }
   ],
   "source": [
    "# Sample list of strings\n",
    "string_list = [\"apple\", \"banana\", \"orange\", \"strawberry\", \"kiwi\"]\n",
    "\n",
    "# Find the shortest string in the list\n",
    "shortest_string = min(string_list, key=len)\n",
    "\n",
    "# Display the result\n",
    "print(\"Shortest string:\", shortest_string)\n"
   ]
  },
  {
   "cell_type": "code",
   "execution_count": 6,
   "id": "5b7f4c55",
   "metadata": {},
   "outputs": [
    {
     "name": "stdout",
     "output_type": "stream",
     "text": [
      "[1, 3, 6, 10, 15]\n"
     ]
    }
   ],
   "source": [
    "# Specify the value of n\n",
    "n = 5  # You can change this to any desired number\n",
    "\n",
    "# Create a list of the first n triangular numbers\n",
    "triangular_numbers = [(i * (i + 1)) // 2 for i in range(1, n + 1)]\n",
    "\n",
    "# Display the result\n",
    "print(triangular_numbers)\n"
   ]
  },
  {
   "cell_type": "code",
   "execution_count": 7,
   "id": "dd085ae1",
   "metadata": {},
   "outputs": [
    {
     "name": "stdout",
     "output_type": "stream",
     "text": [
      "The subsequence is present in the main list.\n"
     ]
    }
   ],
   "source": [
    "def is_subsequence(subsequence, sequence):\n",
    "    sub_len = len(subsequence)\n",
    "    seq_len = len(sequence)\n",
    "    \n",
    "    # Indices for iterating through the subsequence and sequence\n",
    "    sub_index = 0\n",
    "    seq_index = 0\n",
    "    \n",
    "    # Iterate through the sequence to find subsequence elements\n",
    "    while sub_index < sub_len and seq_index < seq_len:\n",
    "        if subsequence[sub_index] == sequence[seq_index]:\n",
    "            sub_index += 1\n",
    "        seq_index += 1\n",
    "    \n",
    "    # If all elements of the subsequence are found, it is a subsequence\n",
    "    return sub_index == sub_len\n",
    "\n",
    "# Example usage\n",
    "main_list = [1, 2, 3, 4, 5, 6, 7]\n",
    "sub_list = [3, 5, 7]\n",
    "\n",
    "result = is_subsequence(sub_list, main_list)\n",
    "\n",
    "# Display the result\n",
    "if result:\n",
    "    print(\"The subsequence is present in the main list.\")\n",
    "else:\n",
    "    print(\"The subsequence is not present in the main list.\")\n"
   ]
  },
  {
   "cell_type": "code",
   "execution_count": 8,
   "id": "dfe03f31",
   "metadata": {},
   "outputs": [
    {
     "name": "stdout",
     "output_type": "stream",
     "text": [
      "List after swapping elements: [1, 4, 3, 2, 5]\n"
     ]
    }
   ],
   "source": [
    "# Sample list\n",
    "my_list = [1, 2, 3, 4, 5]\n",
    "\n",
    "# Indices of elements to be swapped\n",
    "index1 = 1\n",
    "index2 = 3\n",
    "\n",
    "# Swap the elements at the specified indices\n",
    "my_list[index1], my_list[index2] = my_list[index2], my_list[index1]\n",
    "\n",
    "# Display the result\n",
    "print(\"List after swapping elements:\", my_list)\n"
   ]
  },
  {
   "cell_type": "markdown",
   "id": "1a3fd0f3",
   "metadata": {},
   "source": [
    "# Tuple Based Practice Problem "
   ]
  },
  {
   "cell_type": "code",
   "execution_count": 9,
   "id": "e8b53275",
   "metadata": {},
   "outputs": [
    {
     "name": "stdout",
     "output_type": "stream",
     "text": [
      "(1, 2, 3, 4, 5)\n"
     ]
    }
   ],
   "source": [
    "# Using the tuple() constructor\n",
    "my_tuple = tuple(range(1, 6))\n",
    "\n",
    "# Alternatively, using parentheses\n",
    "# my_tuple = (1, 2, 3, 4, 5)\n",
    "\n",
    "# Display the result\n",
    "print(my_tuple)\n"
   ]
  },
  {
   "cell_type": "code",
   "execution_count": 10,
   "id": "c35ae7c5",
   "metadata": {},
   "outputs": [
    {
     "name": "stdout",
     "output_type": "stream",
     "text": [
      "Third element of the tuple: 30\n"
     ]
    }
   ],
   "source": [
    "# Sample tuple\n",
    "my_tuple = (10, 20, 30, 40, 50)\n",
    "\n",
    "# Access the third element (index 2)\n",
    "third_element = my_tuple[2]\n",
    "\n",
    "# Display the result\n",
    "print(\"Third element of the tuple:\", third_element)\n"
   ]
  },
  {
   "cell_type": "code",
   "execution_count": 11,
   "id": "3bb3a3f3",
   "metadata": {},
   "outputs": [
    {
     "name": "stdout",
     "output_type": "stream",
     "text": [
      "Length of the tuple: 5\n"
     ]
    }
   ],
   "source": [
    "# Sample tuple\n",
    "my_tuple = (10, 20, 30, 40, 50)\n",
    "\n",
    "# Find the length of the tuple without using len()\n",
    "length = 0\n",
    "for _ in my_tuple:\n",
    "    length += 1\n",
    "\n",
    "# Display the result\n",
    "print(\"Length of the tuple:\", length)\n"
   ]
  },
  {
   "cell_type": "code",
   "execution_count": 12,
   "id": "e93abdf6",
   "metadata": {},
   "outputs": [
    {
     "name": "stdout",
     "output_type": "stream",
     "text": [
      "The element 20 occurs 3 times in the tuple.\n"
     ]
    }
   ],
   "source": [
    "# Sample tuple\n",
    "my_tuple = (10, 20, 30, 20, 40, 20, 50)\n",
    "\n",
    "# Element to count occurrences\n",
    "element_to_count = 20\n",
    "\n",
    "# Count occurrences without using count()\n",
    "occurrences = 0\n",
    "for element in my_tuple:\n",
    "    if element == element_to_count:\n",
    "        occurrences += 1\n",
    "\n",
    "# Display the result\n",
    "print(f\"The element {element_to_count} occurs {occurrences} times in the tuple.\")\n"
   ]
  },
  {
   "cell_type": "code",
   "execution_count": 1,
   "id": "1fad5ec9",
   "metadata": {},
   "outputs": [
    {
     "name": "stdout",
     "output_type": "stream",
     "text": [
      "The index of 2 in the tuple is: 1\n"
     ]
    }
   ],
   "source": [
    "my_tuple = (1, 2, 3, 4, 2, 5)\n",
    "\n",
    "element_to_find = 2\n",
    "\n",
    "index_of_element = my_tuple.index(element_to_find)\n",
    "\n",
    "print(f\"The index of {element_to_find} in the tuple is: {index_of_element}\")\n"
   ]
  },
  {
   "cell_type": "code",
   "execution_count": 2,
   "id": "89520bb0",
   "metadata": {},
   "outputs": [
    {
     "name": "stdout",
     "output_type": "stream",
     "text": [
      "6 is not in the tuple.\n"
     ]
    }
   ],
   "source": [
    "element_to_find = 6\n",
    "\n",
    "if element_to_find in my_tuple:\n",
    "    index_of_element = my_tuple.index(element_to_find)\n",
    "    print(f\"The index of {element_to_find} in the tuple is: {index_of_element}\")\n",
    "else:\n",
    "    print(f\"{element_to_find} is not in the tuple.\")\n"
   ]
  },
  {
   "cell_type": "code",
   "execution_count": 3,
   "id": "b8bfdc03",
   "metadata": {},
   "outputs": [
    {
     "name": "stdout",
     "output_type": "stream",
     "text": [
      "3 exists in the tuple.\n"
     ]
    }
   ],
   "source": [
    "my_tuple = (1, 2, 3, 4, 5)\n",
    "\n",
    "element_to_check = 3\n",
    "\n",
    "if element_to_check in my_tuple:\n",
    "    print(f\"{element_to_check} exists in the tuple.\")\n",
    "else:\n",
    "    print(f\"{element_to_check} does not exist in the tuple.\")\n"
   ]
  },
  {
   "cell_type": "code",
   "execution_count": 4,
   "id": "d2e7139d",
   "metadata": {},
   "outputs": [
    {
     "name": "stdout",
     "output_type": "stream",
     "text": [
      "6 does not exist in the tuple.\n"
     ]
    }
   ],
   "source": [
    "element_to_check = 6\n",
    "\n",
    "if element_to_check not in my_tuple:\n",
    "    print(f\"{element_to_check} does not exist in the tuple.\")\n",
    "else:\n",
    "    print(f\"{element_to_check} exists in the tuple.\")\n"
   ]
  },
  {
   "cell_type": "code",
   "execution_count": 5,
   "id": "6d8319d7",
   "metadata": {},
   "outputs": [
    {
     "name": "stdout",
     "output_type": "stream",
     "text": [
      "Tuple: (1, 2, 3, 4, 5)\n",
      "List: [1, 2, 3, 4, 5]\n"
     ]
    }
   ],
   "source": [
    "my_tuple = (1, 2, 3, 4, 5)\n",
    "\n",
    "my_list = list(my_tuple)\n",
    "\n",
    "print(\"Tuple:\", my_tuple)\n",
    "print(\"List:\", my_list)\n"
   ]
  },
  {
   "cell_type": "code",
   "execution_count": 6,
   "id": "1f739d12",
   "metadata": {},
   "outputs": [
    {
     "name": "stdout",
     "output_type": "stream",
     "text": [
      "List: [1, 2, 3, 4, 5]\n",
      "Tuple: (1, 2, 3, 4, 5)\n"
     ]
    }
   ],
   "source": [
    "my_list = [1, 2, 3, 4, 5]\n",
    "\n",
    "my_tuple = tuple(my_list)\n",
    "\n",
    "print(\"List:\", my_list)\n",
    "print(\"Tuple:\", my_tuple)\n"
   ]
  },
  {
   "cell_type": "code",
   "execution_count": 7,
   "id": "81deac8f",
   "metadata": {},
   "outputs": [
    {
     "name": "stdout",
     "output_type": "stream",
     "text": [
      "Tuple: (1, 2, 3)\n",
      "Unpacked variables: 1 2 3\n"
     ]
    }
   ],
   "source": [
    "my_tuple = (1, 2, 3)\n",
    "\n",
    "# Unpack the elements into variables\n",
    "var1, var2, var3 = my_tuple\n",
    "\n",
    "print(\"Tuple:\", my_tuple)\n",
    "print(\"Unpacked variables:\", var1, var2, var3)\n"
   ]
  },
  {
   "cell_type": "code",
   "execution_count": 8,
   "id": "a7ab4c8e",
   "metadata": {},
   "outputs": [
    {
     "name": "stdout",
     "output_type": "stream",
     "text": [
      "Tuple of even numbers: (2, 4, 6, 8, 10)\n"
     ]
    }
   ],
   "source": [
    "even_numbers_tuple = tuple(x for x in range(1, 11) if x % 2 == 0)\n",
    "\n",
    "print(\"Tuple of even numbers:\", even_numbers_tuple)\n"
   ]
  },
  {
   "cell_type": "code",
   "execution_count": 10,
   "id": "4fa1733a",
   "metadata": {},
   "outputs": [
    {
     "name": "stdout",
     "output_type": "stream",
     "text": [
      "Tuple 1: (1, 2, 3)\n",
      "Tuple 2: (4, 5, 6)\n",
      "Concatenated Tuple: (1, 2, 3, 4, 5, 6)\n"
     ]
    }
   ],
   "source": [
    "tuple1 = (1, 2, 3)\n",
    "tuple2 = (4, 5, 6)\n",
    "\n",
    "concatenated_tuple = tuple1 + tuple2\n",
    "\n",
    "print(\"Tuple 1:\", tuple1)\n",
    "print(\"Tuple 2:\", tuple2)\n",
    "print(\"Concatenated Tuple:\", concatenated_tuple)\n"
   ]
  },
  {
   "cell_type": "code",
   "execution_count": 11,
   "id": "1b72a112",
   "metadata": {},
   "outputs": [
    {
     "name": "stdout",
     "output_type": "stream",
     "text": [
      "Original Tuple: (1, 2, 3)\n",
      "Repeated Tuple: (1, 2, 3, 1, 2, 3, 1, 2, 3)\n"
     ]
    }
   ],
   "source": [
    "original_tuple = (1, 2, 3)\n",
    "\n",
    "repeated_tuple = original_tuple * 3\n",
    "\n",
    "print(\"Original Tuple:\", original_tuple)\n",
    "print(\"Repeated Tuple:\", repeated_tuple)\n"
   ]
  },
  {
   "cell_type": "code",
   "execution_count": 12,
   "id": "659fb5c7",
   "metadata": {},
   "outputs": [
    {
     "name": "stdout",
     "output_type": "stream",
     "text": [
      "The tuple is empty.\n"
     ]
    }
   ],
   "source": [
    "my_empty_tuple = ()\n",
    "\n",
    "if not bool(my_empty_tuple):\n",
    "    print(\"The tuple is empty.\")\n",
    "else:\n",
    "    print(\"The tuple is not empty.\")\n"
   ]
  },
  {
   "cell_type": "code",
   "execution_count": 13,
   "id": "ac04a467",
   "metadata": {},
   "outputs": [
    {
     "name": "stdout",
     "output_type": "stream",
     "text": [
      "The tuple is empty.\n"
     ]
    }
   ],
   "source": [
    "my_empty_tuple = ()\n",
    "\n",
    "if not my_empty_tuple:\n",
    "    print(\"The tuple is empty.\")\n",
    "else:\n",
    "    print(\"The tuple is not empty.\")\n"
   ]
  },
  {
   "cell_type": "code",
   "execution_count": 14,
   "id": "a920eabc",
   "metadata": {},
   "outputs": [
    {
     "name": "stdout",
     "output_type": "stream",
     "text": [
      "Nested Tuple: ((1, 2, 3), ('a', 'b', 'c'), (True, False))\n"
     ]
    }
   ],
   "source": [
    "nested_tuple = ((1, 2, 3), ('a', 'b', 'c'), (True, False))\n",
    "\n",
    "print(\"Nested Tuple:\", nested_tuple)\n"
   ]
  },
  {
   "cell_type": "code",
   "execution_count": 15,
   "id": "08b35075",
   "metadata": {},
   "outputs": [
    {
     "name": "stdout",
     "output_type": "stream",
     "text": [
      "Nested Tuple: ((1, 2, 3), ('a', 'b', 'c'), (True, False))\n",
      "First element of the nested tuple: 1\n"
     ]
    }
   ],
   "source": [
    "nested_tuple = ((1, 2, 3), ('a', 'b', 'c'), (True, False))\n",
    "\n",
    "# Accessing the first element of the outer tuple\n",
    "first_element_outer_tuple = nested_tuple[0]\n",
    "\n",
    "# Accessing the first element of the inner tuple\n",
    "first_element_nested_tuple = first_element_outer_tuple[0]\n",
    "\n",
    "print(\"Nested Tuple:\", nested_tuple)\n",
    "print(\"First element of the nested tuple:\", first_element_nested_tuple)\n"
   ]
  },
  {
   "cell_type": "code",
   "execution_count": 16,
   "id": "b02d81ce",
   "metadata": {},
   "outputs": [],
   "source": [
    "single_element_tuple = (42,)\n"
   ]
  },
  {
   "cell_type": "code",
   "execution_count": 17,
   "id": "52c102e9",
   "metadata": {},
   "outputs": [
    {
     "name": "stdout",
     "output_type": "stream",
     "text": [
      "Tuples are not equal\n",
      "Tuples are not equal\n",
      "Tuple1 is less than tuple2\n"
     ]
    }
   ],
   "source": [
    "tuple1 = (1, 2, 3)\n",
    "tuple2 = (1, 2, 4)\n",
    "\n",
    "# Equal check\n",
    "if tuple1 == tuple2:\n",
    "    print(\"Tuples are equal\")\n",
    "else:\n",
    "    print(\"Tuples are not equal\")\n",
    "\n",
    "# Not equal check\n",
    "if tuple1 != tuple2:\n",
    "    print(\"Tuples are not equal\")\n",
    "else:\n",
    "    print(\"Tuples are equal\")\n",
    "\n",
    "# Less than check\n",
    "if tuple1 < tuple2:\n",
    "    print(\"Tuple1 is less than tuple2\")\n",
    "else:\n",
    "    print(\"Tuple1 is not less than tuple2\")\n"
   ]
  },
  {
   "cell_type": "code",
   "execution_count": 18,
   "id": "440011b6",
   "metadata": {},
   "outputs": [],
   "source": [
    "my_tuple = (1, 2, 3, 4, 5)\n",
    "\n",
    "# Deleting the entire tuple variable\n",
    "del my_tuple\n",
    "\n",
    "# Trying to access the tuple after deletion will result in an error\n",
    "# Uncommenting the line below would cause a NameError\n",
    "# print(my_tuple)\n"
   ]
  },
  {
   "cell_type": "code",
   "execution_count": 19,
   "id": "6f97547c",
   "metadata": {},
   "outputs": [
    {
     "name": "stdout",
     "output_type": "stream",
     "text": [
      "Tuple: (10, 5, 8, 15, 3)\n",
      "Maximum value: 15\n"
     ]
    }
   ],
   "source": [
    "my_tuple = (10, 5, 8, 15, 3)\n",
    "\n",
    "max_value = max(my_tuple)\n",
    "\n",
    "print(\"Tuple:\", my_tuple)\n",
    "print(\"Maximum value:\", max_value)\n"
   ]
  },
  {
   "cell_type": "code",
   "execution_count": 20,
   "id": "f5f5b5ee",
   "metadata": {},
   "outputs": [
    {
     "name": "stdout",
     "output_type": "stream",
     "text": [
      "Tuple: (10, 5, 8, 15, 3)\n",
      "Minimum value: 3\n"
     ]
    }
   ],
   "source": [
    "my_tuple = (10, 5, 8, 15, 3)\n",
    "\n",
    "min_value = min(my_tuple)\n",
    "\n",
    "print(\"Tuple:\", my_tuple)\n",
    "print(\"Minimum value:\", min_value)\n"
   ]
  },
  {
   "cell_type": "code",
   "execution_count": 21,
   "id": "81691aaf",
   "metadata": {},
   "outputs": [
    {
     "name": "stdout",
     "output_type": "stream",
     "text": [
      "String: hello\n",
      "Tuple of characters: ('h', 'e', 'l', 'l', 'o')\n"
     ]
    }
   ],
   "source": [
    "my_string = \"hello\"\n",
    "\n",
    "# Convert the string to a tuple of characters\n",
    "char_tuple = tuple(my_string)\n",
    "\n",
    "print(\"String:\", my_string)\n",
    "print(\"Tuple of characters:\", char_tuple)\n"
   ]
  },
  {
   "cell_type": "code",
   "execution_count": 22,
   "id": "17fba407",
   "metadata": {},
   "outputs": [
    {
     "name": "stdout",
     "output_type": "stream",
     "text": [
      "Tuple of characters: ('h', 'e', 'l', 'l', 'o')\n",
      "String: hello\n"
     ]
    }
   ],
   "source": [
    "char_tuple = ('h', 'e', 'l', 'l', 'o')\n",
    "\n",
    "# Convert the tuple of characters to a string\n",
    "my_string = ''.join(char_tuple)\n",
    "\n",
    "print(\"Tuple of characters:\", char_tuple)\n",
    "print(\"String:\", my_string)\n"
   ]
  },
  {
   "cell_type": "code",
   "execution_count": 23,
   "id": "a88917aa",
   "metadata": {},
   "outputs": [
    {
     "name": "stdout",
     "output_type": "stream",
     "text": [
      "Mixed Tuple: (1, 'hello', 3.14, True)\n"
     ]
    }
   ],
   "source": [
    "mixed_tuple = (1, 'hello', 3.14, True)\n",
    "\n",
    "print(\"Mixed Tuple:\", mixed_tuple)\n"
   ]
  },
  {
   "cell_type": "code",
   "execution_count": 24,
   "id": "5ed215fe",
   "metadata": {},
   "outputs": [
    {
     "name": "stdout",
     "output_type": "stream",
     "text": [
      "The tuples are identical.\n"
     ]
    }
   ],
   "source": [
    "tuple1 = (1, 2, 3)\n",
    "tuple2 = (1, 2, 3)\n",
    "\n",
    "if tuple1 == tuple2:\n",
    "    print(\"The tuples are identical.\")\n",
    "else:\n",
    "    print(\"The tuples are not identical.\")\n"
   ]
  },
  {
   "cell_type": "code",
   "execution_count": 25,
   "id": "5674c8d1",
   "metadata": {},
   "outputs": [
    {
     "name": "stdout",
     "output_type": "stream",
     "text": [
      "Original Tuple: (3, 1, 4, 1, 5, 9, 2, 6, 5, 3, 5)\n",
      "Sorted Tuple: (1, 1, 2, 3, 3, 4, 5, 5, 5, 6, 9)\n"
     ]
    }
   ],
   "source": [
    "my_tuple = (3, 1, 4, 1, 5, 9, 2, 6, 5, 3, 5)\n",
    "\n",
    "# Create a sorted list from the tuple\n",
    "sorted_list = sorted(my_tuple)\n",
    "\n",
    "# Convert the sorted list back to a tuple if needed\n",
    "sorted_tuple = tuple(sorted_list)\n",
    "\n",
    "print(\"Original Tuple:\", my_tuple)\n",
    "print(\"Sorted Tuple:\", sorted_tuple)\n"
   ]
  },
  {
   "cell_type": "code",
   "execution_count": 26,
   "id": "f57a0a6a",
   "metadata": {},
   "outputs": [
    {
     "name": "stdout",
     "output_type": "stream",
     "text": [
      "Tuple of Integers: (1, 2, 3, 4, 5)\n",
      "Tuple of Strings: ('1', '2', '3', '4', '5')\n"
     ]
    }
   ],
   "source": [
    "tuple_of_integers = (1, 2, 3, 4, 5)\n",
    "\n",
    "# Convert each integer to a string using a tuple comprehension\n",
    "tuple_of_strings = tuple(str(i) for i in tuple_of_integers)\n",
    "\n",
    "print(\"Tuple of Integers:\", tuple_of_integers)\n",
    "print(\"Tuple of Strings:\", tuple_of_strings)\n"
   ]
  },
  {
   "cell_type": "code",
   "execution_count": 27,
   "id": "91d3d911",
   "metadata": {},
   "outputs": [
    {
     "name": "stdout",
     "output_type": "stream",
     "text": [
      "Tuple of Integers: (1, 2, 3, 4, 5)\n",
      "Tuple of Strings: ('1', '2', '3', '4', '5')\n"
     ]
    }
   ],
   "source": [
    "tuple_of_integers = (1, 2, 3, 4, 5)\n",
    "\n",
    "# Use map to convert each integer to a string and then convert the result to a tuple\n",
    "tuple_of_strings = tuple(map(str, tuple_of_integers))\n",
    "\n",
    "print(\"Tuple of Integers:\", tuple_of_integers)\n",
    "print(\"Tuple of Strings:\", tuple_of_strings)\n"
   ]
  },
  {
   "cell_type": "code",
   "execution_count": 28,
   "id": "035f29c2",
   "metadata": {},
   "outputs": [
    {
     "name": "stdout",
     "output_type": "stream",
     "text": [
      "Tuple of Strings: ('1', '2', '3', '4', '5')\n",
      "Tuple of Integers: (1, 2, 3, 4, 5)\n"
     ]
    }
   ],
   "source": [
    "tuple_of_strings = ('1', '2', '3', '4', '5')\n",
    "\n",
    "# Convert each string to an integer using a tuple comprehension\n",
    "tuple_of_integers = tuple(int(s) for s in tuple_of_strings)\n",
    "\n",
    "print(\"Tuple of Strings:\", tuple_of_strings)\n",
    "print(\"Tuple of Integers:\", tuple_of_integers)\n"
   ]
  },
  {
   "cell_type": "code",
   "execution_count": 29,
   "id": "ab4fb408",
   "metadata": {},
   "outputs": [
    {
     "name": "stdout",
     "output_type": "stream",
     "text": [
      "Tuple of Strings: ('1', '2', '3', '4', '5')\n",
      "Tuple of Integers: (1, 2, 3, 4, 5)\n"
     ]
    }
   ],
   "source": [
    "tuple_of_strings = ('1', '2', '3', '4', '5')\n",
    "\n",
    "# Use map to convert each string to an integer and then convert the result to a tuple\n",
    "tuple_of_integers = tuple(map(int, tuple_of_strings))\n",
    "\n",
    "print(\"Tuple of Strings:\", tuple_of_strings)\n",
    "print(\"Tuple of Integers:\", tuple_of_integers)\n"
   ]
  },
  {
   "cell_type": "code",
   "execution_count": 30,
   "id": "28035ba4",
   "metadata": {},
   "outputs": [
    {
     "name": "stdout",
     "output_type": "stream",
     "text": [
      "Tuple 1: (1, 2, 3)\n",
      "Tuple 2: ('a', 'b', 'c')\n",
      "Merged Tuple: (1, 2, 3, 'a', 'b', 'c')\n"
     ]
    }
   ],
   "source": [
    "tuple1 = (1, 2, 3)\n",
    "tuple2 = ('a', 'b', 'c')\n",
    "\n",
    "# Merge the two tuples using the + operator\n",
    "merged_tuple = tuple1 + tuple2\n",
    "\n",
    "print(\"Tuple 1:\", tuple1)\n",
    "print(\"Tuple 2:\", tuple2)\n",
    "print(\"Merged Tuple:\", merged_tuple)\n"
   ]
  },
  {
   "cell_type": "code",
   "execution_count": 31,
   "id": "99f13886",
   "metadata": {},
   "outputs": [
    {
     "name": "stdout",
     "output_type": "stream",
     "text": [
      "Nested Tuple: ((1, 2, 3), ('a', 'b', 'c'), (True, False))\n",
      "Flattened Tuple: (1, 2, 3, 'a', 'b', 'c', True, False)\n"
     ]
    }
   ],
   "source": [
    "def flatten_nested_tuple(nested_tuple):\n",
    "    flattened_list = []\n",
    "    \n",
    "    for item in nested_tuple:\n",
    "        if isinstance(item, tuple):\n",
    "            flattened_list.extend(flatten_nested_tuple(item))\n",
    "        else:\n",
    "            flattened_list.append(item)\n",
    "    \n",
    "    return flattened_list\n",
    "\n",
    "nested_tuple = ((1, 2, 3), ('a', 'b', 'c'), (True, False))\n",
    "\n",
    "flattened_tuple = tuple(flatten_nested_tuple(nested_tuple))\n",
    "\n",
    "print(\"Nested Tuple:\", nested_tuple)\n",
    "print(\"Flattened Tuple:\", flattened_tuple)\n"
   ]
  },
  {
   "cell_type": "code",
   "execution_count": 32,
   "id": "c493e3ed",
   "metadata": {},
   "outputs": [
    {
     "name": "stdout",
     "output_type": "stream",
     "text": [
      "Tuple of the first 5 prime numbers: (2, 3, 5, 7, 11)\n"
     ]
    }
   ],
   "source": [
    "prime_numbers_tuple = (2, 3, 5, 7, 11)\n",
    "\n",
    "print(\"Tuple of the first 5 prime numbers:\", prime_numbers_tuple)\n"
   ]
  },
  {
   "cell_type": "code",
   "execution_count": 33,
   "id": "eee5b06d",
   "metadata": {},
   "outputs": [
    {
     "name": "stdout",
     "output_type": "stream",
     "text": [
      "Is palindrome: True\n",
      "Is palindrome: False\n"
     ]
    }
   ],
   "source": [
    "def is_palindrome_tuple(input_tuple):\n",
    "    return input_tuple == input_tuple[::-1]\n",
    "\n",
    "# Example usage\n",
    "palindrome_tuple = (1, 2, 3, 4, 3, 2, 1)\n",
    "non_palindrome_tuple = (1, 2, 3, 4, 5)\n",
    "\n",
    "print(\"Is palindrome:\", is_palindrome_tuple(palindrome_tuple))\n",
    "print(\"Is palindrome:\", is_palindrome_tuple(non_palindrome_tuple))\n"
   ]
  },
  {
   "cell_type": "code",
   "execution_count": 34,
   "id": "4cec94fa",
   "metadata": {},
   "outputs": [
    {
     "name": "stdout",
     "output_type": "stream",
     "text": [
      "Tuple of squares: (1, 4, 9, 16, 25)\n"
     ]
    }
   ],
   "source": [
    "squares_tuple = tuple(x**2 for x in range(1, 6))\n",
    "\n",
    "print(\"Tuple of squares:\", squares_tuple)\n"
   ]
  },
  {
   "cell_type": "code",
   "execution_count": 35,
   "id": "f8255f45",
   "metadata": {},
   "outputs": [
    {
     "name": "stdout",
     "output_type": "stream",
     "text": [
      "Original Tuple: (1, 2, 3, 4, 5, 6, 7, 8, 9, 10)\n",
      "Filtered Tuple (without even numbers): (1, 3, 5, 7, 9)\n"
     ]
    }
   ],
   "source": [
    "original_tuple = (1, 2, 3, 4, 5, 6, 7, 8, 9, 10)\n",
    "\n",
    "# Filter out even numbers using a tuple comprehension\n",
    "filtered_tuple = tuple(x for x in original_tuple if x % 2 != 0)\n",
    "\n",
    "print(\"Original Tuple:\", original_tuple)\n",
    "print(\"Filtered Tuple (without even numbers):\", filtered_tuple)\n"
   ]
  },
  {
   "cell_type": "code",
   "execution_count": 36,
   "id": "ec098e5d",
   "metadata": {},
   "outputs": [
    {
     "name": "stdout",
     "output_type": "stream",
     "text": [
      "Original Tuple: (1, 2, 3, 4, 5)\n",
      "Modified Tuple (multiplied by 2): (2, 4, 6, 8, 10)\n"
     ]
    }
   ],
   "source": [
    "original_tuple = (1, 2, 3, 4, 5)\n",
    "\n",
    "# Multiply all elements by 2 using a tuple comprehension\n",
    "modified_tuple = tuple(x * 2 for x in original_tuple)\n",
    "\n",
    "print(\"Original Tuple:\", original_tuple)\n",
    "print(\"Modified Tuple (multiplied by 2):\", modified_tuple)\n"
   ]
  },
  {
   "cell_type": "code",
   "execution_count": 37,
   "id": "8dfc4321",
   "metadata": {},
   "outputs": [
    {
     "name": "stdout",
     "output_type": "stream",
     "text": [
      "Tuple of random numbers: (13, 16, 58, 70, 74)\n"
     ]
    }
   ],
   "source": [
    "import random\n",
    "\n",
    "# Generate a tuple of 5 random numbers between 1 and 100\n",
    "random_numbers_tuple = tuple(random.randint(1, 100) for _ in range(5))\n",
    "\n",
    "print(\"Tuple of random numbers:\", random_numbers_tuple)\n"
   ]
  },
  {
   "cell_type": "code",
   "execution_count": 38,
   "id": "5663ee3a",
   "metadata": {},
   "outputs": [
    {
     "name": "stdout",
     "output_type": "stream",
     "text": [
      "Is sorted: True\n",
      "Is sorted: False\n"
     ]
    }
   ],
   "source": [
    "def is_sorted_tuple(input_tuple):\n",
    "    return input_tuple == tuple(sorted(input_tuple))\n",
    "\n",
    "# Example usage\n",
    "sorted_tuple = (1, 2, 3, 4, 5)\n",
    "unsorted_tuple = (5, 2, 1, 3, 4)\n",
    "\n",
    "print(\"Is sorted:\", is_sorted_tuple(sorted_tuple))\n",
    "print(\"Is sorted:\", is_sorted_tuple(unsorted_tuple))\n"
   ]
  },
  {
   "cell_type": "code",
   "execution_count": 39,
   "id": "e95cae30",
   "metadata": {},
   "outputs": [
    {
     "name": "stdout",
     "output_type": "stream",
     "text": [
      "Original Tuple: (1, 2, 3, 4, 5)\n",
      "Rotated Tuple: (3, 4, 5, 1, 2)\n"
     ]
    }
   ],
   "source": [
    "def rotate_left_tuple(input_tuple, n):\n",
    "    n = n % len(input_tuple)  # Ensure n is within the length of the tuple\n",
    "    rotated_tuple = input_tuple[n:] + input_tuple[:n]\n",
    "    return rotated_tuple\n",
    "\n",
    "# Example usage\n",
    "original_tuple = (1, 2, 3, 4, 5)\n",
    "\n",
    "# Rotate the tuple to the left by 2 positions\n",
    "rotated_tuple = rotate_left_tuple(original_tuple, 2)\n",
    "\n",
    "print(\"Original Tuple:\", original_tuple)\n",
    "print(\"Rotated Tuple:\", rotated_tuple)\n"
   ]
  },
  {
   "cell_type": "code",
   "execution_count": 40,
   "id": "ba1610c6",
   "metadata": {},
   "outputs": [
    {
     "name": "stdout",
     "output_type": "stream",
     "text": [
      "Tuple of the first 5 Fibonacci numbers: (0, 1, 1, 2, 3)\n"
     ]
    }
   ],
   "source": [
    "def generate_fibonacci(n):\n",
    "    fibonacci_sequence = [0, 1]\n",
    "    while len(fibonacci_sequence) < n:\n",
    "        next_number = fibonacci_sequence[-1] + fibonacci_sequence[-2]\n",
    "        fibonacci_sequence.append(next_number)\n",
    "    return tuple(fibonacci_sequence)\n",
    "\n",
    "# Example usage\n",
    "first_5_fibonacci = generate_fibonacci(5)\n",
    "\n",
    "print(\"Tuple of the first 5 Fibonacci numbers:\", first_5_fibonacci)\n"
   ]
  },
  {
   "cell_type": "code",
   "execution_count": 41,
   "id": "526bffd2",
   "metadata": {},
   "outputs": [
    {
     "ename": "KeyboardInterrupt",
     "evalue": "Interrupted by user",
     "output_type": "error",
     "traceback": [
      "\u001b[1;31m---------------------------------------------------------------------------\u001b[0m",
      "\u001b[1;31mKeyboardInterrupt\u001b[0m                         Traceback (most recent call last)",
      "Cell \u001b[1;32mIn[41], line 2\u001b[0m\n\u001b[0;32m      1\u001b[0m \u001b[38;5;66;03m# Get user input for elements of the tuple\u001b[39;00m\n\u001b[1;32m----> 2\u001b[0m user_input \u001b[38;5;241m=\u001b[39m \u001b[38;5;28minput\u001b[39m(\u001b[38;5;124m\"\u001b[39m\u001b[38;5;124mEnter elements separated by spaces: \u001b[39m\u001b[38;5;124m\"\u001b[39m)\n\u001b[0;32m      4\u001b[0m \u001b[38;5;66;03m# Split the input string into a list of values\u001b[39;00m\n\u001b[0;32m      5\u001b[0m input_list \u001b[38;5;241m=\u001b[39m user_input\u001b[38;5;241m.\u001b[39msplit()\n",
      "File \u001b[1;32mD:\\New folder\\Lib\\site-packages\\ipykernel\\kernelbase.py:1202\u001b[0m, in \u001b[0;36mKernel.raw_input\u001b[1;34m(self, prompt)\u001b[0m\n\u001b[0;32m   1200\u001b[0m     msg \u001b[38;5;241m=\u001b[39m \u001b[38;5;124m\"\u001b[39m\u001b[38;5;124mraw_input was called, but this frontend does not support input requests.\u001b[39m\u001b[38;5;124m\"\u001b[39m\n\u001b[0;32m   1201\u001b[0m     \u001b[38;5;28;01mraise\u001b[39;00m StdinNotImplementedError(msg)\n\u001b[1;32m-> 1202\u001b[0m \u001b[38;5;28;01mreturn\u001b[39;00m \u001b[38;5;28mself\u001b[39m\u001b[38;5;241m.\u001b[39m_input_request(\n\u001b[0;32m   1203\u001b[0m     \u001b[38;5;28mstr\u001b[39m(prompt),\n\u001b[0;32m   1204\u001b[0m     \u001b[38;5;28mself\u001b[39m\u001b[38;5;241m.\u001b[39m_parent_ident[\u001b[38;5;124m\"\u001b[39m\u001b[38;5;124mshell\u001b[39m\u001b[38;5;124m\"\u001b[39m],\n\u001b[0;32m   1205\u001b[0m     \u001b[38;5;28mself\u001b[39m\u001b[38;5;241m.\u001b[39mget_parent(\u001b[38;5;124m\"\u001b[39m\u001b[38;5;124mshell\u001b[39m\u001b[38;5;124m\"\u001b[39m),\n\u001b[0;32m   1206\u001b[0m     password\u001b[38;5;241m=\u001b[39m\u001b[38;5;28;01mFalse\u001b[39;00m,\n\u001b[0;32m   1207\u001b[0m )\n",
      "File \u001b[1;32mD:\\New folder\\Lib\\site-packages\\ipykernel\\kernelbase.py:1245\u001b[0m, in \u001b[0;36mKernel._input_request\u001b[1;34m(self, prompt, ident, parent, password)\u001b[0m\n\u001b[0;32m   1242\u001b[0m \u001b[38;5;28;01mexcept\u001b[39;00m \u001b[38;5;167;01mKeyboardInterrupt\u001b[39;00m:\n\u001b[0;32m   1243\u001b[0m     \u001b[38;5;66;03m# re-raise KeyboardInterrupt, to truncate traceback\u001b[39;00m\n\u001b[0;32m   1244\u001b[0m     msg \u001b[38;5;241m=\u001b[39m \u001b[38;5;124m\"\u001b[39m\u001b[38;5;124mInterrupted by user\u001b[39m\u001b[38;5;124m\"\u001b[39m\n\u001b[1;32m-> 1245\u001b[0m     \u001b[38;5;28;01mraise\u001b[39;00m \u001b[38;5;167;01mKeyboardInterrupt\u001b[39;00m(msg) \u001b[38;5;28;01mfrom\u001b[39;00m \u001b[38;5;28;01mNone\u001b[39;00m\n\u001b[0;32m   1246\u001b[0m \u001b[38;5;28;01mexcept\u001b[39;00m \u001b[38;5;167;01mException\u001b[39;00m:\n\u001b[0;32m   1247\u001b[0m     \u001b[38;5;28mself\u001b[39m\u001b[38;5;241m.\u001b[39mlog\u001b[38;5;241m.\u001b[39mwarning(\u001b[38;5;124m\"\u001b[39m\u001b[38;5;124mInvalid Message:\u001b[39m\u001b[38;5;124m\"\u001b[39m, exc_info\u001b[38;5;241m=\u001b[39m\u001b[38;5;28;01mTrue\u001b[39;00m)\n",
      "\u001b[1;31mKeyboardInterrupt\u001b[0m: Interrupted by user"
     ]
    }
   ],
   "source": [
    "# Get user input for elements of the tuple\n",
    "user_input = input(\"Enter elements separated by spaces: \")\n",
    "\n",
    "# Split the input string into a list of values\n",
    "input_list = user_input.split()\n",
    "\n",
    "# Convert the list of strings to a tuple of integers (or any desired type)\n",
    "user_tuple = tuple(map(int, input_list))\n",
    "\n",
    "print(\"User Input Tuple:\", user_tuple)\n"
   ]
  },
  {
   "cell_type": "code",
   "execution_count": null,
   "id": "d176012f",
   "metadata": {},
   "outputs": [],
   "source": [
    "def swap_elements(input_tuple, index1, index2):\n",
    "    # Convert the tuple to a list to modify it\n",
    "    temp_list = list(input_tuple)\n",
    "    \n",
    "    # Swap the elements at the specified indices\n",
    "    temp_list[index1], temp_list[index2] = temp_list[index2], temp_list[index1]\n",
    "    \n",
    "    # Convert the list back to a tuple\n",
    "    swapped_tuple = tuple(temp_list)\n",
    "    \n",
    "    return swapped_tuple\n",
    "\n",
    "# Example usage\n",
    "original_tuple = (1, 2, 3, 4, 5)\n",
    "\n",
    "# Swap elements at indices 1 and 3\n",
    "swapped_tuple = swap_elements(original_tuple, 1, 3)\n",
    "\n",
    "print(\"Original Tuple:\", original_tuple)\n",
    "print(\"Swapped Tuple:\", swapped_tuple)\n"
   ]
  },
  {
   "cell_type": "code",
   "execution_count": null,
   "id": "f078fa0a",
   "metadata": {},
   "outputs": [],
   "source": [
    "original_tuple = (1, 2, 3, 4, 5)\n",
    "\n",
    "# Reverse the tuple using slicing\n",
    "reversed_tuple = original_tuple[::-1]\n",
    "\n",
    "print(\"Original Tuple:\", original_tuple)\n",
    "print(\"Reversed Tuple:\", reversed_tuple)\n"
   ]
  },
  {
   "cell_type": "code",
   "execution_count": 42,
   "id": "f0ebd389",
   "metadata": {},
   "outputs": [
    {
     "name": "stdout",
     "output_type": "stream",
     "text": [
      "Tuple of the first 5 powers of 2: (1, 2, 4, 8, 16)\n"
     ]
    }
   ],
   "source": [
    "n = 5  # You can change this value to the desired number of powers\n",
    "\n",
    "powers_of_2_tuple = tuple(2**i for i in range(n))\n",
    "\n",
    "print(\"Tuple of the first\", n, \"powers of 2:\", powers_of_2_tuple)\n"
   ]
  },
  {
   "cell_type": "code",
   "execution_count": 43,
   "id": "ee3e73ff",
   "metadata": {},
   "outputs": [
    {
     "name": "stdout",
     "output_type": "stream",
     "text": [
      "Tuple of Strings: ('apple', 'banana', 'kiwi', 'strawberry', 'orange')\n",
      "Longest String: strawberry\n"
     ]
    }
   ],
   "source": [
    "def find_longest_string(tuple_of_strings):\n",
    "    return max(tuple_of_strings, key=len)\n",
    "\n",
    "# Example usage\n",
    "my_tuple = ('apple', 'banana', 'kiwi', 'strawberry', 'orange')\n",
    "\n",
    "longest_string = find_longest_string(my_tuple)\n",
    "\n",
    "print(\"Tuple of Strings:\", my_tuple)\n",
    "print(\"Longest String:\", longest_string)\n"
   ]
  },
  {
   "cell_type": "code",
   "execution_count": 44,
   "id": "80c660a5",
   "metadata": {},
   "outputs": [
    {
     "name": "stdout",
     "output_type": "stream",
     "text": [
      "Tuple of Strings: ('apple', 'banana', 'kiwi', 'strawberry', 'orange')\n",
      "Shortest String: kiwi\n"
     ]
    }
   ],
   "source": [
    "def find_shortest_string(tuple_of_strings):\n",
    "    return min(tuple_of_strings, key=len)\n",
    "\n",
    "# Example usage\n",
    "my_tuple = ('apple', 'banana', 'kiwi', 'strawberry', 'orange')\n",
    "\n",
    "shortest_string = find_shortest_string(my_tuple)\n",
    "\n",
    "print(\"Tuple of Strings:\", my_tuple)\n",
    "print(\"Shortest String:\", shortest_string)\n"
   ]
  },
  {
   "cell_type": "code",
   "execution_count": 45,
   "id": "86166091",
   "metadata": {},
   "outputs": [
    {
     "name": "stdout",
     "output_type": "stream",
     "text": [
      "Tuple of the first 5 triangular numbers: (1, 3, 6, 10, 15)\n"
     ]
    }
   ],
   "source": [
    "n = 5  # You can change this value to the desired number of triangular numbers\n",
    "\n",
    "triangular_numbers_tuple = tuple((i * (i + 1)) // 2 for i in range(1, n + 1))\n",
    "\n",
    "print(\"Tuple of the first\", n, \"triangular numbers:\", triangular_numbers_tuple)\n"
   ]
  },
  {
   "cell_type": "code",
   "execution_count": 46,
   "id": "c6dd9622",
   "metadata": {},
   "outputs": [
    {
     "name": "stdout",
     "output_type": "stream",
     "text": [
      "Larger Tuple: (1, 2, 3, 4, 5, 6, 7, 8)\n",
      "Smaller Tuple: (3, 4, 5)\n",
      "Is smaller tuple a subsequence: True\n"
     ]
    }
   ],
   "source": [
    "def is_subsequence(subsequence, sequence):\n",
    "    sub_len = len(subsequence)\n",
    "    for i in range(len(sequence) - sub_len + 1):\n",
    "        if sequence[i:i + sub_len] == subsequence:\n",
    "            return True\n",
    "    return False\n",
    "\n",
    "# Example usage\n",
    "larger_tuple = (1, 2, 3, 4, 5, 6, 7, 8)\n",
    "smaller_tuple = (3, 4, 5)\n",
    "\n",
    "result = is_subsequence(smaller_tuple, larger_tuple)\n",
    "\n",
    "print(\"Larger Tuple:\", larger_tuple)\n",
    "print(\"Smaller Tuple:\", smaller_tuple)\n",
    "print(\"Is smaller tuple a subsequence:\", result)\n"
   ]
  },
  {
   "cell_type": "code",
   "execution_count": 47,
   "id": "029eee40",
   "metadata": {},
   "outputs": [
    {
     "name": "stdout",
     "output_type": "stream",
     "text": [
      "Tuple of alternating 1s and 0s: (1, 0, 1, 0, 1, 0, 1, 0)\n"
     ]
    }
   ],
   "source": [
    "n = 8  # You can change this value to the desired length\n",
    "\n",
    "alternating_tuple = tuple(1 if i % 2 == 0 else 0 for i in range(n))\n",
    "\n",
    "print(\"Tuple of alternating 1s and 0s:\", alternating_tuple)\n"
   ]
  },
  {
   "cell_type": "markdown",
   "id": "234b7803",
   "metadata": {},
   "source": [
    "Set Based Practice Problem "
   ]
  },
  {
   "cell_type": "code",
   "execution_count": 48,
   "id": "5e1e9586",
   "metadata": {},
   "outputs": [
    {
     "name": "stdout",
     "output_type": "stream",
     "text": [
      "Set with integers from 1 to 5: {1, 2, 3, 4, 5}\n"
     ]
    }
   ],
   "source": [
    "my_set = {1, 2, 3, 4, 5}\n",
    "\n",
    "print(\"Set with integers from 1 to 5:\", my_set)\n"
   ]
  },
  {
   "cell_type": "code",
   "execution_count": 49,
   "id": "ee2043ba",
   "metadata": {},
   "outputs": [
    {
     "name": "stdout",
     "output_type": "stream",
     "text": [
      "Updated Set: {1, 2, 3, 4, 5, 6}\n"
     ]
    }
   ],
   "source": [
    "my_set = {1, 2, 3, 4, 5}\n",
    "\n",
    "# Add an element to the set\n",
    "my_set.add(6)\n",
    "\n",
    "print(\"Updated Set:\", my_set)\n"
   ]
  },
  {
   "cell_type": "code",
   "execution_count": 50,
   "id": "e914a852",
   "metadata": {},
   "outputs": [
    {
     "name": "stdout",
     "output_type": "stream",
     "text": [
      "Updated Set: {1, 2, 4, 5}\n"
     ]
    }
   ],
   "source": [
    "my_set = {1, 2, 3, 4, 5}\n",
    "\n",
    "# Remove an element from the set using discard\n",
    "my_set.discard(3)\n",
    "\n",
    "print(\"Updated Set:\", my_set)\n"
   ]
  },
  {
   "cell_type": "code",
   "execution_count": 51,
   "id": "fe3fd002",
   "metadata": {},
   "outputs": [
    {
     "name": "stdout",
     "output_type": "stream",
     "text": [
      "3 exists in the set.\n"
     ]
    }
   ],
   "source": [
    "my_set = {1, 2, 3, 4, 5}\n",
    "\n",
    "# Check if an element exists in the set\n",
    "element_to_check = 3\n",
    "\n",
    "if element_to_check in my_set:\n",
    "    print(f\"{element_to_check} exists in the set.\")\n",
    "else:\n",
    "    print(f\"{element_to_check} does not exist in the set.\")\n"
   ]
  },
  {
   "cell_type": "code",
   "execution_count": 52,
   "id": "0361ef60",
   "metadata": {},
   "outputs": [
    {
     "name": "stdout",
     "output_type": "stream",
     "text": [
      "Length of the set: 5\n"
     ]
    }
   ],
   "source": [
    "my_set = {1, 2, 3, 4, 5}\n",
    "\n",
    "# Find the length of the set without using len()\n",
    "length = 0\n",
    "for _ in my_set:\n",
    "    length += 1\n",
    "\n",
    "print(\"Length of the set:\", length)\n"
   ]
  },
  {
   "cell_type": "code",
   "execution_count": 53,
   "id": "84403cda",
   "metadata": {},
   "outputs": [
    {
     "name": "stdout",
     "output_type": "stream",
     "text": [
      "Set after clearing: set()\n"
     ]
    }
   ],
   "source": [
    "my_set = {1, 2, 3, 4, 5}\n",
    "\n",
    "# Clear all elements from the set\n",
    "my_set.clear()\n",
    "\n",
    "print(\"Set after clearing:\", my_set)\n"
   ]
  },
  {
   "cell_type": "code",
   "execution_count": 54,
   "id": "107789d4",
   "metadata": {},
   "outputs": [
    {
     "name": "stdout",
     "output_type": "stream",
     "text": [
      "Set of even numbers: {2, 4, 6, 8, 10}\n"
     ]
    }
   ],
   "source": [
    "even_numbers_set = {x for x in range(1, 11) if x % 2 == 0}\n",
    "\n",
    "print(\"Set of even numbers:\", even_numbers_set)\n"
   ]
  },
  {
   "cell_type": "code",
   "execution_count": 55,
   "id": "16936cbe",
   "metadata": {},
   "outputs": [
    {
     "name": "stdout",
     "output_type": "stream",
     "text": [
      "Set of odd numbers: {1, 3, 5, 7, 9}\n"
     ]
    }
   ],
   "source": [
    "odd_numbers_set = {x for x in range(1, 11) if x % 2 != 0}\n",
    "\n",
    "print(\"Set of odd numbers:\", odd_numbers_set)\n"
   ]
  },
  {
   "cell_type": "code",
   "execution_count": 56,
   "id": "7f5eb2f1",
   "metadata": {},
   "outputs": [
    {
     "name": "stdout",
     "output_type": "stream",
     "text": [
      "Set 1: {1, 2, 3, 4, 5}\n",
      "Set 2: {4, 5, 6, 7, 8}\n",
      "Union Set: {1, 2, 3, 4, 5, 6, 7, 8}\n"
     ]
    }
   ],
   "source": [
    "set1 = {1, 2, 3, 4, 5}\n",
    "set2 = {4, 5, 6, 7, 8}\n",
    "\n",
    "# Find the union of two sets using union() method\n",
    "union_set = set1.union(set2)\n",
    "\n",
    "print(\"Set 1:\", set1)\n",
    "print(\"Set 2:\", set2)\n",
    "print(\"Union Set:\", union_set)\n"
   ]
  },
  {
   "cell_type": "code",
   "execution_count": 57,
   "id": "2bab7a35",
   "metadata": {},
   "outputs": [
    {
     "name": "stdout",
     "output_type": "stream",
     "text": [
      "Set 1: {1, 2, 3, 4, 5}\n",
      "Set 2: {4, 5, 6, 7, 8}\n",
      "Union Set: {1, 2, 3, 4, 5, 6, 7, 8}\n"
     ]
    }
   ],
   "source": [
    "set1 = {1, 2, 3, 4, 5}\n",
    "set2 = {4, 5, 6, 7, 8}\n",
    "\n",
    "# Find the union of two sets using the | operator\n",
    "union_set = set1 | set2\n",
    "\n",
    "print(\"Set 1:\", set1)\n",
    "print(\"Set 2:\", set2)\n",
    "print(\"Union Set:\", union_set)\n"
   ]
  },
  {
   "cell_type": "code",
   "execution_count": 58,
   "id": "2494e104",
   "metadata": {},
   "outputs": [
    {
     "name": "stdout",
     "output_type": "stream",
     "text": [
      "Set 1: {1, 2, 3, 4, 5}\n",
      "Set 2: {4, 5, 6, 7, 8}\n",
      "Intersection Set: {4, 5}\n"
     ]
    }
   ],
   "source": [
    "set1 = {1, 2, 3, 4, 5}\n",
    "set2 = {4, 5, 6, 7, 8}\n",
    "\n",
    "# Find the intersection of two sets using intersection() method\n",
    "intersection_set = set1.intersection(set2)\n",
    "\n",
    "print(\"Set 1:\", set1)\n",
    "print(\"Set 2:\", set2)\n",
    "print(\"Intersection Set:\", intersection_set)\n"
   ]
  },
  {
   "cell_type": "code",
   "execution_count": 59,
   "id": "89145550",
   "metadata": {},
   "outputs": [
    {
     "name": "stdout",
     "output_type": "stream",
     "text": [
      "Set 1: {1, 2, 3, 4, 5}\n",
      "Set 2: {4, 5, 6, 7, 8}\n",
      "Difference Set (Set 1 - Set 2): {1, 2, 3}\n"
     ]
    }
   ],
   "source": [
    "set1 = {1, 2, 3, 4, 5}\n",
    "set2 = {4, 5, 6, 7, 8}\n",
    "\n",
    "# Find the difference between two sets using difference() method\n",
    "difference_set = set1.difference(set2)\n",
    "\n",
    "print(\"Set 1:\", set1)\n",
    "print(\"Set 2:\", set2)\n",
    "print(\"Difference Set (Set 1 - Set 2):\", difference_set)\n"
   ]
  },
  {
   "cell_type": "code",
   "execution_count": 60,
   "id": "a63d62ac",
   "metadata": {},
   "outputs": [
    {
     "name": "stdout",
     "output_type": "stream",
     "text": [
      "Set 1: {1, 2, 3, 4, 5}\n",
      "Set 2: {4, 5, 6, 7, 8}\n",
      "Difference Set (Set 1 - Set 2): {1, 2, 3}\n"
     ]
    }
   ],
   "source": [
    "set1 = {1, 2, 3, 4, 5}\n",
    "set2 = {4, 5, 6, 7, 8}\n",
    "\n",
    "# Find the difference between two sets using the - operator\n",
    "difference_set = set1 - set2\n",
    "\n",
    "print(\"Set 1:\", set1)\n",
    "print(\"Set 2:\", set2)\n",
    "print(\"Difference Set (Set 1 - Set 2):\", difference_set)\n"
   ]
  },
  {
   "cell_type": "code",
   "execution_count": 61,
   "id": "b495531d",
   "metadata": {},
   "outputs": [
    {
     "name": "stdout",
     "output_type": "stream",
     "text": [
      "Set 1: {1, 2, 3, 4, 5}\n",
      "Set 2: {2, 4}\n",
      "Is Set 2 a subset of Set 1: True\n"
     ]
    }
   ],
   "source": [
    "set1 = {1, 2, 3, 4, 5}\n",
    "set2 = {2, 4}\n",
    "\n",
    "# Check if set2 is a subset of set1 using issubset() method\n",
    "is_subset = set2.issubset(set1)\n",
    "\n",
    "print(\"Set 1:\", set1)\n",
    "print(\"Set 2:\", set2)\n",
    "print(\"Is Set 2 a subset of Set 1:\", is_subset)\n"
   ]
  },
  {
   "cell_type": "code",
   "execution_count": 62,
   "id": "8c1ad860",
   "metadata": {},
   "outputs": [
    {
     "name": "stdout",
     "output_type": "stream",
     "text": [
      "Set 1: {1, 2, 3, 4, 5}\n",
      "Set 2: {2, 4}\n",
      "Is Set 2 a subset of Set 1: True\n"
     ]
    }
   ],
   "source": [
    "set1 = {1, 2, 3, 4, 5}\n",
    "set2 = {2, 4}\n",
    "\n",
    "# Check if set2 is a subset of set1 using the <= operator\n",
    "is_subset = set2 <= set1\n",
    "\n",
    "print(\"Set 1:\", set1)\n",
    "print(\"Set 2:\", set2)\n",
    "print(\"Is Set 2 a subset of Set 1:\", is_subset)\n"
   ]
  },
  {
   "cell_type": "code",
   "execution_count": 63,
   "id": "412dea7a",
   "metadata": {},
   "outputs": [
    {
     "name": "stdout",
     "output_type": "stream",
     "text": [
      "Set 1: {1, 2, 3, 4, 5}\n",
      "Set 2: {2, 4}\n",
      "Is Set 1 a superset of Set 2: True\n"
     ]
    }
   ],
   "source": [
    "set1 = {1, 2, 3, 4, 5}\n",
    "set2 = {2, 4}\n",
    "\n",
    "# Check if set1 is a superset of set2 using issuperset() method\n",
    "is_superset = set1.issuperset(set2)\n",
    "\n",
    "print(\"Set 1:\", set1)\n",
    "print(\"Set 2:\", set2)\n",
    "print(\"Is Set 1 a superset of Set 2:\", is_superset)\n"
   ]
  },
  {
   "cell_type": "code",
   "execution_count": 64,
   "id": "f2633952",
   "metadata": {},
   "outputs": [
    {
     "name": "stdout",
     "output_type": "stream",
     "text": [
      "Set 1: {1, 2, 3, 4, 5}\n",
      "Set 2: {2, 4}\n",
      "Is Set 1 a superset of Set 2: True\n"
     ]
    }
   ],
   "source": [
    "set1 = {1, 2, 3, 4, 5}\n",
    "set2 = {2, 4}\n",
    "\n",
    "# Check if set1 is a superset of set2 using the >= operator\n",
    "is_superset = set1 >= set2\n",
    "\n",
    "print(\"Set 1:\", set1)\n",
    "print(\"Set 2:\", set2)\n",
    "print(\"Is Set 1 a superset of Set 2:\", is_superset)\n"
   ]
  },
  {
   "cell_type": "code",
   "execution_count": 65,
   "id": "ab8460ce",
   "metadata": {},
   "outputs": [
    {
     "name": "stdout",
     "output_type": "stream",
     "text": [
      "List: [1, 2, 3, 4, 5]\n",
      "Set: {1, 2, 3, 4, 5}\n"
     ]
    }
   ],
   "source": [
    "my_list = [1, 2, 3, 4, 5]\n",
    "\n",
    "# Create a set from a list using set() constructor\n",
    "my_set = set(my_list)\n",
    "\n",
    "print(\"List:\", my_list)\n",
    "print(\"Set:\", my_set)\n"
   ]
  },
  {
   "cell_type": "code",
   "execution_count": 66,
   "id": "93018b1a",
   "metadata": {},
   "outputs": [
    {
     "name": "stdout",
     "output_type": "stream",
     "text": [
      "Set: {1, 2, 3, 4, 5}\n",
      "List: [1, 2, 3, 4, 5]\n"
     ]
    }
   ],
   "source": [
    "my_set = {1, 2, 3, 4, 5}\n",
    "\n",
    "# Convert a set to a list using list() constructor\n",
    "my_list = list(my_set)\n",
    "\n",
    "print(\"Set:\", my_set)\n",
    "print(\"List:\", my_list)\n"
   ]
  },
  {
   "cell_type": "code",
   "execution_count": 67,
   "id": "59703909",
   "metadata": {},
   "outputs": [
    {
     "name": "stdout",
     "output_type": "stream",
     "text": [
      "Original Set: {2, 3, 4, 5}\n",
      "Removed Element: 1\n"
     ]
    }
   ],
   "source": [
    "my_set = {1, 2, 3, 4, 5}\n",
    "\n",
    "# Remove a random element from the set using pop()\n",
    "removed_element = my_set.pop()\n",
    "\n",
    "print(\"Original Set:\", my_set)\n",
    "print(\"Removed Element:\", removed_element)\n"
   ]
  },
  {
   "cell_type": "code",
   "execution_count": 68,
   "id": "c9b85b89",
   "metadata": {},
   "outputs": [
    {
     "name": "stdout",
     "output_type": "stream",
     "text": [
      "Original Set: {2, 3, 4, 5}\n",
      "Popped Element: 1\n"
     ]
    }
   ],
   "source": [
    "my_set = {1, 2, 3, 4, 5}\n",
    "\n",
    "# Pop an element from the set using pop()\n",
    "popped_element = my_set.pop()\n",
    "\n",
    "print(\"Original Set:\", my_set)\n",
    "print(\"Popped Element:\", popped_element)\n"
   ]
  },
  {
   "cell_type": "code",
   "execution_count": 69,
   "id": "00ef2ba2",
   "metadata": {},
   "outputs": [
    {
     "name": "stdout",
     "output_type": "stream",
     "text": [
      "Set 1: {1, 2, 3, 4, 5}\n",
      "Set 2: {6, 7, 8, 9, 10}\n",
      "No common elements: True\n"
     ]
    }
   ],
   "source": [
    "set1 = {1, 2, 3, 4, 5}\n",
    "set2 = {6, 7, 8, 9, 10}\n",
    "\n",
    "# Check if the two sets have no elements in common using isdisjoint()\n",
    "no_common_elements = set1.isdisjoint(set2)\n",
    "\n",
    "print(\"Set 1:\", set1)\n",
    "print(\"Set 2:\", set2)\n",
    "print(\"No common elements:\", no_common_elements)\n"
   ]
  },
  {
   "cell_type": "code",
   "execution_count": 70,
   "id": "5fddfd9d",
   "metadata": {},
   "outputs": [
    {
     "name": "stdout",
     "output_type": "stream",
     "text": [
      "Set 1: {1, 2, 3, 4, 5}\n",
      "Set 2: {4, 5, 6, 7, 8}\n",
      "Symmetric Difference Set: {1, 2, 3, 6, 7, 8}\n"
     ]
    }
   ],
   "source": [
    "set1 = {1, 2, 3, 4, 5}\n",
    "set2 = {4, 5, 6, 7, 8}\n",
    "\n",
    "# Find the symmetric difference between two sets using symmetric_difference() method\n",
    "symmetric_difference_set = set1.symmetric_difference(set2)\n",
    "\n",
    "print(\"Set 1:\", set1)\n",
    "print(\"Set 2:\", set2)\n",
    "print(\"Symmetric Difference Set:\", symmetric_difference_set)\n"
   ]
  },
  {
   "cell_type": "code",
   "execution_count": 71,
   "id": "208f973b",
   "metadata": {},
   "outputs": [
    {
     "name": "stdout",
     "output_type": "stream",
     "text": [
      "Updated Set 1: {1, 2, 3, 4, 5, 6, 7, 8}\n"
     ]
    }
   ],
   "source": [
    "set1 = {1, 2, 3, 4, 5}\n",
    "set2 = {4, 5, 6, 7, 8}\n",
    "\n",
    "# Update set1 with elements from set2 using update() method\n",
    "set1.update(set2)\n",
    "\n",
    "print(\"Updated Set 1:\", set1)\n"
   ]
  },
  {
   "cell_type": "code",
   "execution_count": 72,
   "id": "24edb049",
   "metadata": {},
   "outputs": [
    {
     "name": "stdout",
     "output_type": "stream",
     "text": [
      "Set of the first 5 prime numbers: {2, 3, 5, 7, 11}\n"
     ]
    }
   ],
   "source": [
    "prime_numbers_set = {2, 3, 5, 7, 11}\n",
    "\n",
    "print(\"Set of the first 5 prime numbers:\", prime_numbers_set)\n"
   ]
  },
  {
   "cell_type": "code",
   "execution_count": 73,
   "id": "b6242952",
   "metadata": {},
   "outputs": [
    {
     "name": "stdout",
     "output_type": "stream",
     "text": [
      "Set of the first 5 prime numbers: {2, 3, 5, 7, 11}\n"
     ]
    }
   ],
   "source": [
    "def is_prime(num):\n",
    "    if num < 2:\n",
    "        return False\n",
    "    for i in range(2, int(num**0.5) + 1):\n",
    "        if num % i == 0:\n",
    "            return False\n",
    "    return True\n",
    "\n",
    "# Create a set of the first 5 prime numbers using set() constructor and a comprehension\n",
    "first_n_primes = {num for num in range(2, 20) if is_prime(num)}\n",
    "prime_numbers_set = set(list(first_n_primes)[:5])\n",
    "\n",
    "print(\"Set of the first 5 prime numbers:\", prime_numbers_set)\n"
   ]
  },
  {
   "cell_type": "code",
   "execution_count": 74,
   "id": "ea45194e",
   "metadata": {},
   "outputs": [
    {
     "name": "stdout",
     "output_type": "stream",
     "text": [
      "Set 1: {1, 2, 3, 4, 5}\n",
      "Set 2: {1, 2, 3, 4, 5}\n",
      "Are sets identical: True\n"
     ]
    }
   ],
   "source": [
    "set1 = {1, 2, 3, 4, 5}\n",
    "set2 = {5, 4, 3, 2, 1}\n",
    "\n",
    "# Check if two sets are identical using the == operator\n",
    "are_identical = set1 == set2\n",
    "\n",
    "print(\"Set 1:\", set1)\n",
    "print(\"Set 2:\", set2)\n",
    "print(\"Are sets identical:\", are_identical)\n"
   ]
  },
  {
   "cell_type": "code",
   "execution_count": 75,
   "id": "6604cb6d",
   "metadata": {},
   "outputs": [
    {
     "name": "stdout",
     "output_type": "stream",
     "text": [
      "Set 1: {1, 2, 3, 4, 5}\n",
      "Set 2: {1, 2, 3, 4, 5}\n",
      "Are sets identical: True\n"
     ]
    }
   ],
   "source": [
    "set1 = {1, 2, 3, 4, 5}\n",
    "set2 = {5, 4, 3, 2, 1}\n",
    "\n",
    "# Check if two sets are identical using issubset() and issuperset() methods\n",
    "are_identical = set1.issubset(set2) and set1.issuperset(set2)\n",
    "\n",
    "print(\"Set 1:\", set1)\n",
    "print(\"Set 2:\", set2)\n",
    "print(\"Are sets identical:\", are_identical)\n"
   ]
  },
  {
   "cell_type": "code",
   "execution_count": 76,
   "id": "9b7a6fd8",
   "metadata": {},
   "outputs": [
    {
     "name": "stdout",
     "output_type": "stream",
     "text": [
      "Original Set: {1, 2, 3, 4, 5}\n",
      "Frozen Set: frozenset({1, 2, 3, 4, 5})\n"
     ]
    }
   ],
   "source": [
    "my_set = {1, 2, 3, 4, 5}\n",
    "\n",
    "# Create a frozen set from a set using frozenset() constructor\n",
    "my_frozen_set = frozenset(my_set)\n",
    "\n",
    "print(\"Original Set:\", my_set)\n",
    "print(\"Frozen Set:\", my_frozen_set)\n"
   ]
  },
  {
   "cell_type": "code",
   "execution_count": 77,
   "id": "a2bc5ca3",
   "metadata": {},
   "outputs": [
    {
     "name": "stdout",
     "output_type": "stream",
     "text": [
      "Set of squares: {1, 4, 9, 16, 25}\n"
     ]
    }
   ],
   "source": [
    "squares_set = {x**2 for x in range(1, 6)}\n",
    "\n",
    "print(\"Set of squares:\", squares_set)\n"
   ]
  },
  {
   "cell_type": "code",
   "execution_count": 78,
   "id": "3a239cb8",
   "metadata": {},
   "outputs": [
    {
     "name": "stdout",
     "output_type": "stream",
     "text": [
      "{1, 3, 5, 7, 9}\n"
     ]
    }
   ],
   "source": [
    "original_set = {1, 2, 3, 4, 5, 6, 7, 8, 9, 10}\n",
    "\n",
    "# Using list comprehension\n",
    "filtered_set = {x for x in original_set if x % 2 != 0}\n",
    "\n",
    "print(filtered_set)\n"
   ]
  },
  {
   "cell_type": "code",
   "execution_count": 79,
   "id": "0966345a",
   "metadata": {},
   "outputs": [
    {
     "name": "stdout",
     "output_type": "stream",
     "text": [
      "{2, 4, 6, 8, 10}\n"
     ]
    }
   ],
   "source": [
    "original_set = {1, 2, 3, 4, 5}\n",
    "\n",
    "# Using set comprehension to multiply each element by 2\n",
    "result_set = {x * 2 for x in original_set}\n",
    "\n",
    "print(result_set)\n"
   ]
  },
  {
   "cell_type": "code",
   "execution_count": 80,
   "id": "8a4d54b6",
   "metadata": {},
   "outputs": [
    {
     "name": "stdout",
     "output_type": "stream",
     "text": [
      "{2, 4, 7, 8, 10}\n"
     ]
    }
   ],
   "source": [
    "import random\n",
    "\n",
    "# Generate a set of 5 random numbers between 1 and 10\n",
    "random_set = set(random.sample(range(1, 11), 5))\n",
    "\n",
    "print(random_set)\n"
   ]
  },
  {
   "cell_type": "code",
   "execution_count": 81,
   "id": "f05044ec",
   "metadata": {},
   "outputs": [
    {
     "name": "stdout",
     "output_type": "stream",
     "text": [
      "The set is empty.\n"
     ]
    }
   ],
   "source": [
    "my_set = set()\n",
    "\n",
    "if not my_set:\n",
    "    print(\"The set is empty.\")\n",
    "else:\n",
    "    print(\"The set is not empty.\")\n"
   ]
  },
  {
   "cell_type": "code",
   "execution_count": 82,
   "id": "337fd7b2",
   "metadata": {},
   "outputs": [
    {
     "name": "stdout",
     "output_type": "stream",
     "text": [
      "{frozenset({1, 2, 3}), frozenset({'b', 'a', 'c'})}\n"
     ]
    }
   ],
   "source": [
    "nested_set = {frozenset({1, 2, 3}), frozenset({'a', 'b', 'c'})}\n",
    "\n",
    "print(nested_set)\n"
   ]
  },
  {
   "cell_type": "code",
   "execution_count": 83,
   "id": "d8badf83",
   "metadata": {},
   "outputs": [
    {
     "name": "stdout",
     "output_type": "stream",
     "text": [
      "{1, 2, 4, 5}\n"
     ]
    }
   ],
   "source": [
    "my_set = {1, 2, 3, 4, 5}\n",
    "\n",
    "# Remove element 3 from the set using discard\n",
    "my_set.discard(3)\n",
    "\n",
    "print(my_set)\n"
   ]
  },
  {
   "cell_type": "code",
   "execution_count": 84,
   "id": "3db55f30",
   "metadata": {},
   "outputs": [
    {
     "name": "stdout",
     "output_type": "stream",
     "text": [
      "set2 is a subset of set1.\n",
      "set1 is a superset of set2.\n"
     ]
    }
   ],
   "source": [
    "set1 = {1, 2, 3, 4, 5}\n",
    "set2 = {2, 4}\n",
    "\n",
    "if set2.issubset(set1):\n",
    "    print(\"set2 is a subset of set1.\")\n",
    "\n",
    "if set1.issuperset(set2):\n",
    "    print(\"set1 is a superset of set2.\")\n"
   ]
  },
  {
   "cell_type": "code",
   "execution_count": 85,
   "id": "dd642007",
   "metadata": {},
   "outputs": [
    {
     "name": "stdout",
     "output_type": "stream",
     "text": [
      "{' ', 'e', 'r', 'l', 'h', 'o', 'd', 'w'}\n"
     ]
    }
   ],
   "source": [
    "my_string = \"hello world\"\n",
    "\n",
    "# Create a set from the string\n",
    "my_set = set(my_string)\n",
    "\n",
    "print(my_set)\n"
   ]
  },
  {
   "cell_type": "code",
   "execution_count": 86,
   "id": "0984a8ca",
   "metadata": {},
   "outputs": [
    {
     "name": "stdout",
     "output_type": "stream",
     "text": [
      "{1, 2, 3, 4, 5}\n"
     ]
    }
   ],
   "source": [
    "# Set of strings\n",
    "string_set = {\"1\", \"2\", \"3\", \"4\", \"5\"}\n",
    "\n",
    "# Convert the set of strings to a set of integers\n",
    "integer_set = set(int(x) for x in string_set)\n",
    "\n",
    "print(integer_set)\n"
   ]
  },
  {
   "cell_type": "code",
   "execution_count": 87,
   "id": "a63a0d48",
   "metadata": {},
   "outputs": [
    {
     "name": "stdout",
     "output_type": "stream",
     "text": [
      "{'2', '4', '5', '1', '3'}\n"
     ]
    }
   ],
   "source": [
    "# Set of integers\n",
    "integer_set = {1, 2, 3, 4, 5}\n",
    "\n",
    "# Convert the set of integers to a set of strings\n",
    "string_set = set(str(x) for x in integer_set)\n",
    "\n",
    "print(string_set)\n"
   ]
  },
  {
   "cell_type": "code",
   "execution_count": 88,
   "id": "3fc917e3",
   "metadata": {},
   "outputs": [
    {
     "name": "stdout",
     "output_type": "stream",
     "text": [
      "{1, 2, 3, 4, 5}\n"
     ]
    }
   ],
   "source": [
    "my_tuple = (1, 2, 3, 4, 5)\n",
    "\n",
    "# Create a set from the tuple\n",
    "my_set = set(my_tuple)\n",
    "\n",
    "print(my_set)\n"
   ]
  },
  {
   "cell_type": "code",
   "execution_count": 89,
   "id": "3c8c4bd9",
   "metadata": {},
   "outputs": [
    {
     "name": "stdout",
     "output_type": "stream",
     "text": [
      "(1, 2, 3, 4, 5)\n"
     ]
    }
   ],
   "source": [
    "my_set = {1, 2, 3, 4, 5}\n",
    "\n",
    "# Convert the set to a tuple\n",
    "my_tuple = tuple(my_set)\n",
    "\n",
    "print(my_tuple)\n"
   ]
  },
  {
   "cell_type": "code",
   "execution_count": 91,
   "id": "97410a26",
   "metadata": {},
   "outputs": [
    {
     "name": "stdout",
     "output_type": "stream",
     "text": [
      "15\n"
     ]
    }
   ],
   "source": [
    "my_set = {2,6,0.8,3,4,2,}\n",
    "my_value = max(my_set)\n",
    "print(max_value)"
   ]
  },
  {
   "cell_type": "code",
   "execution_count": 92,
   "id": "c8a314ad",
   "metadata": {},
   "outputs": [
    {
     "name": "stdout",
     "output_type": "stream",
     "text": [
      "Maximum value in the set: 9\n"
     ]
    }
   ],
   "source": [
    "my_set = {3, 7, 1, 9, 4, 6}\n",
    "\n",
    "# Find the maximum value in the set\n",
    "max_value = max(my_set)\n",
    "\n",
    "print(\"Maximum value in the set:\", max_value)\n"
   ]
  },
  {
   "cell_type": "code",
   "execution_count": 93,
   "id": "6880395c",
   "metadata": {},
   "outputs": [
    {
     "name": "stdout",
     "output_type": "stream",
     "text": [
      "Minimum value in the set: 1\n"
     ]
    }
   ],
   "source": [
    "my_set = {3, 7, 1, 9, 4, 6}\n",
    "\n",
    "# Find the minimum value in the set\n",
    "min_value = min(my_set)\n",
    "\n",
    "print(\"Minimum value in the set:\", min_value)\n"
   ]
  },
  {
   "cell_type": "code",
   "execution_count": 94,
   "id": "0c860358",
   "metadata": {},
   "outputs": [
    {
     "name": "stdout",
     "output_type": "stream",
     "text": [
      "Enter elements separated by spaces: 23\n",
      "User set: {23}\n"
     ]
    }
   ],
   "source": [
    "# Get user input as a string\n",
    "user_input_str = input(\"Enter elements separated by spaces: \")\n",
    "\n",
    "# Split the input string into a list of strings\n",
    "input_list = user_input_str.split()\n",
    "\n",
    "# Convert the list of strings to a set of integers\n",
    "user_set = set(map(int, input_list))\n",
    "\n",
    "print(\"User set:\", user_set)\n"
   ]
  },
  {
   "cell_type": "code",
   "execution_count": 95,
   "id": "68cafde8",
   "metadata": {},
   "outputs": [
    {
     "name": "stdout",
     "output_type": "stream",
     "text": [
      "The sets have common elements.\n"
     ]
    }
   ],
   "source": [
    "set1 = {1, 2, 3, 4, 5}\n",
    "set2 = {4, 5, 6, 7}\n",
    "\n",
    "# Check if the intersection is empty\n",
    "if set1.isdisjoint(set2):\n",
    "    print(\"The sets have no common elements (intersection is empty).\")\n",
    "else:\n",
    "    print(\"The sets have common elements.\")\n"
   ]
  },
  {
   "cell_type": "code",
   "execution_count": 96,
   "id": "f77cc4c9",
   "metadata": {},
   "outputs": [
    {
     "name": "stdout",
     "output_type": "stream",
     "text": [
      "Set of the first 5 Fibonacci numbers: {0, 1, 2, 3}\n"
     ]
    }
   ],
   "source": [
    "# Function to generate the first n Fibonacci numbers\n",
    "def generate_fibonacci(n):\n",
    "    fibonacci_set = set()\n",
    "    a, b = 0, 1\n",
    "\n",
    "    for _ in range(n):\n",
    "        fibonacci_set.add(a)\n",
    "        a, b = b, a + b\n",
    "\n",
    "    return fibonacci_set\n",
    "\n",
    "# Create a set of the first 5 Fibonacci numbers\n",
    "first_five_fibonacci = generate_fibonacci(5)\n",
    "\n",
    "print(\"Set of the first 5 Fibonacci numbers:\", first_five_fibonacci)\n"
   ]
  },
  {
   "cell_type": "code",
   "execution_count": 97,
   "id": "583207f9",
   "metadata": {},
   "outputs": [
    {
     "name": "stdout",
     "output_type": "stream",
     "text": [
      "Original list: [1, 2, 3, 2, 4, 5, 1, 6]\n",
      "List with duplicates removed: [1, 2, 3, 4, 5, 6]\n"
     ]
    }
   ],
   "source": [
    "original_list = [1, 2, 3, 2, 4, 5, 1, 6]\n",
    "\n",
    "# Remove duplicates using sets\n",
    "unique_list = list(set(original_list))\n",
    "\n",
    "print(\"Original list:\", original_list)\n",
    "print(\"List with duplicates removed:\", unique_list)\n"
   ]
  },
  {
   "cell_type": "code",
   "execution_count": 98,
   "id": "430410e5",
   "metadata": {},
   "outputs": [
    {
     "name": "stdout",
     "output_type": "stream",
     "text": [
      "The sets have the same elements.\n"
     ]
    }
   ],
   "source": [
    "set1 = {1, 2, 3, 4, 5}\n",
    "set2 = {5, 4, 3, 2, 1}\n",
    "\n",
    "# Check if the sets have the same elements\n",
    "if set1 == set2:\n",
    "    print(\"The sets have the same elements.\")\n",
    "else:\n",
    "    print(\"The sets do not have the same elements.\")\n"
   ]
  },
  {
   "cell_type": "code",
   "execution_count": 99,
   "id": "689b6621",
   "metadata": {},
   "outputs": [
    {
     "name": "stdout",
     "output_type": "stream",
     "text": [
      "Set of the first 5 powers of 2: {1, 2, 4, 8, 16}\n"
     ]
    }
   ],
   "source": [
    "# Function to generate the first n powers of 2\n",
    "def generate_powers_of_2(n):\n",
    "    powers_set = set()\n",
    "\n",
    "    for i in range(n):\n",
    "        powers_set.add(2 ** i)\n",
    "\n",
    "    return powers_set\n",
    "\n",
    "# Specify the value of n\n",
    "n = 5\n",
    "\n",
    "# Create a set of the first n powers of 2\n",
    "powers_set = generate_powers_of_2(n)\n",
    "\n",
    "print(f\"Set of the first {n} powers of 2:\", powers_set)\n"
   ]
  },
  {
   "cell_type": "code",
   "execution_count": 100,
   "id": "d9fe0ded",
   "metadata": {},
   "outputs": [
    {
     "name": "stdout",
     "output_type": "stream",
     "text": [
      "Common elements (using intersection method): {3, 4, 5}\n",
      "Common elements (using & operator): {3, 4, 5}\n"
     ]
    }
   ],
   "source": [
    "my_set = {1, 2, 3, 4, 5}\n",
    "my_list = [3, 4, 5, 6, 7]\n",
    "\n",
    "# Find common elements using intersection method\n",
    "common_elements_method = my_set.intersection(my_list)\n",
    "\n",
    "# Find common elements using & operator\n",
    "common_elements_operator = my_set & set(my_list)\n",
    "\n",
    "print(\"Common elements (using intersection method):\", common_elements_method)\n",
    "print(\"Common elements (using & operator):\", common_elements_operator)\n"
   ]
  },
  {
   "cell_type": "code",
   "execution_count": 101,
   "id": "e92d8abc",
   "metadata": {},
   "outputs": [
    {
     "name": "stdout",
     "output_type": "stream",
     "text": [
      "Set of the first 5 triangular numbers: {1, 3, 6, 10, 15}\n"
     ]
    }
   ],
   "source": [
    "# Function to generate the first n triangular numbers\n",
    "def generate_triangular_numbers(n):\n",
    "    triangular_set = set()\n",
    "\n",
    "    for i in range(1, n + 1):\n",
    "        triangular_set.add(i * (i + 1) // 2)\n",
    "\n",
    "    return triangular_set\n",
    "\n",
    "# Specify the value of n\n",
    "n = 5\n",
    "\n",
    "# Create a set of the first n triangular numbers\n",
    "triangular_set = generate_triangular_numbers(n)\n",
    "\n",
    "print(f\"Set of the first {n} triangular numbers:\", triangular_set)\n"
   ]
  },
  {
   "cell_type": "code",
   "execution_count": 102,
   "id": "04b15361",
   "metadata": {},
   "outputs": [
    {
     "name": "stdout",
     "output_type": "stream",
     "text": [
      "set2 is a subset of set1.\n",
      "set2 is a subset of set1.\n"
     ]
    }
   ],
   "source": [
    "set1 = {1, 2, 3, 4, 5}\n",
    "set2 = {2, 4}\n",
    "\n",
    "# Check if set2 is a subset of set1 using issubset()\n",
    "if set2.issubset(set1):\n",
    "    print(\"set2 is a subset of set1.\")\n",
    "else:\n",
    "    print(\"set2 is not a subset of set1.\")\n",
    "\n",
    "# Alternatively, you can use the <= operator\n",
    "if set2 <= set1:\n",
    "    print(\"set2 is a subset of set1.\")\n",
    "else:\n",
    "    print(\"set2 is not a subset of set1.\")\n"
   ]
  },
  {
   "cell_type": "code",
   "execution_count": 103,
   "id": "743cf5f3",
   "metadata": {},
   "outputs": [
    {
     "name": "stdout",
     "output_type": "stream",
     "text": [
      "Set of alternating 1s and 0s of length 8: {0, 1}\n"
     ]
    }
   ],
   "source": [
    "# Function to create a set of alternating 1s and 0s\n",
    "def create_alternating_set(n):\n",
    "    alternating_set = {i % 2 for i in range(n)}\n",
    "    return alternating_set\n",
    "\n",
    "# Specify the length of the set\n",
    "n = 8\n",
    "\n",
    "# Create a set of alternating 1s and 0s\n",
    "result_set = create_alternating_set(n)\n",
    "\n",
    "print(f\"Set of alternating 1s and 0s of length {n}:\", result_set)\n"
   ]
  },
  {
   "cell_type": "code",
   "execution_count": 104,
   "id": "7caa2538",
   "metadata": {},
   "outputs": [
    {
     "name": "stdout",
     "output_type": "stream",
     "text": [
      "Merged set using union() method: {1, 2, 3, 4, 5, 6, 7}\n",
      "Merged set using | operator: {1, 2, 3, 4, 5, 6, 7}\n"
     ]
    }
   ],
   "source": [
    "set1 = {1, 2, 3}\n",
    "set2 = {3, 4, 5}\n",
    "set3 = {5, 6, 7}\n",
    "\n",
    "# Merge sets using union() method\n",
    "merged_set_method = set1.union(set2, set3)\n",
    "\n",
    "# Alternatively, you can use the | operator\n",
    "merged_set_operator = set1 | set2 | set3\n",
    "\n",
    "print(\"Merged set using union() method:\", merged_set_method)\n",
    "print(\"Merged set using | operator:\", merged_set_operator)\n"
   ]
  },
  {
   "cell_type": "code",
   "execution_count": null,
   "id": "9c396804",
   "metadata": {},
   "outputs": [],
   "source": []
  }
 ],
 "metadata": {
  "kernelspec": {
   "display_name": "Python 3 (ipykernel)",
   "language": "python",
   "name": "python3"
  },
  "language_info": {
   "codemirror_mode": {
    "name": "ipython",
    "version": 3
   },
   "file_extension": ".py",
   "mimetype": "text/x-python",
   "name": "python",
   "nbconvert_exporter": "python",
   "pygments_lexer": "ipython3",
   "version": "3.11.5"
  }
 },
 "nbformat": 4,
 "nbformat_minor": 5
}
